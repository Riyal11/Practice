{
  "nbformat": 4,
  "nbformat_minor": 0,
  "metadata": {
    "colab": {
      "provenance": []
    },
    "kernelspec": {
      "name": "python3",
      "display_name": "Python 3"
    },
    "language_info": {
      "name": "python"
    }
  },
  "cells": [
    {
      "cell_type": "markdown",
      "source": [
        "Question 1\n",
        "Create a function that takes a list of non-negative integers and strings and return a new list without the strings.\n",
        "Examples\n",
        "filter_list([1, 2, \"a\", \"b\"]) ➞ [1, 2]\n",
        "\n",
        "filter_list([1, \"a\", \"b\", 0, 15]) ➞ [1, 0, 15]\n",
        "\n",
        "filter_list([1, 2, \"aasf\", \"1\", \"123\", 123]) ➞ [1, 2, 123]\n",
        "\n",
        "Question 2\n",
        "The \"Reverser\" takes a string as input and returns that string in reverse order, with the opposite case.\n",
        "Examples\n",
        "reverse(\"Hello World\") ➞ \"DLROw OLLEh\"\n",
        "\n",
        "reverse(\"ReVeRsE\") ➞ \"eSrEvEr\"\n",
        "\n",
        "reverse(\"Radar\") ➞ \"RADAr\"\n",
        "\n",
        "Question 3\n",
        "You can assign variables from lists like this:\n",
        "lst = [1, 2, 3, 4, 5, 6]\n",
        "first = lst[0]\n",
        "middle = lst[1:-1]\n",
        "last = lst[-1]\n",
        "\n",
        "print(first) ➞ outputs 1\n",
        "print(middle) ➞ outputs [2, 3, 4, 5]\n",
        "print(last) ➞ outputs 6\n",
        "With Python 3, you can assign variables from lists in a much more succinct way. Create variables first, middle and last from the given list using destructuring assignment (check the Resources tab for some examples), where:\n",
        "first  ➞ 1\n",
        "\n",
        "middle ➞ [2, 3, 4, 5]\n",
        "\n",
        "last ➞ 6\n",
        "Your task is to unpack the list writeyourcodehere into three variables, being first, middle, and last, with middle being everything in between the first and last element. Then print all three variables.\n",
        "\n",
        "Question 4\n",
        "Write a function that calculates the factorial of a number recursively.\n",
        "Examples\n",
        "factorial(5) ➞ 120\n",
        "\n",
        "factorial(3) ➞ 6\n",
        "\n",
        "factorial(1) ➞ 1\n",
        "\n",
        "factorial(0) ➞ 1\n",
        "\n",
        "Question 5\n",
        "Write a function that moves all elements of one type to the end of the list.\n",
        "Examples\n",
        "move_to_end([1, 3, 2, 4, 4, 1], 1) ➞ [3, 2, 4, 4, 1, 1]\n",
        "# Move all the 1s to the end of the array.\n",
        "\n",
        "move_to_end([7, 8, 9, 1, 2, 3, 4], 9) ➞ [7, 8, 1, 2, 3, 4, 9]\n",
        "\n",
        "move_to_end([\"a\", \"a\", \"a\", \"b\"], \"a\") ➞ [\"b\", \"a\", \"a\", \"a\"]\n",
        "\n",
        "\n"
      ],
      "metadata": {
        "id": "TybkQ7K7ove_"
      }
    },
    {
      "cell_type": "code",
      "execution_count": 2,
      "metadata": {
        "id": "F8hdXzA9ou3y",
        "colab": {
          "base_uri": "https://localhost:8080/"
        },
        "outputId": "2debbc69-fbd0-4243-f3dc-c1063335ba9b"
      },
      "outputs": [
        {
          "output_type": "stream",
          "name": "stdout",
          "text": [
            "[1, 2]\n"
          ]
        }
      ],
      "source": [
        "#1 create a filter list\n",
        "def filter_list(lst):\n",
        "  return[i for i in lst if type(i) == int]\n",
        "\n",
        "print(filter_list([1,2,\"a\",\"b\"]))\n",
        "print(filter_list([1, \"a\", \"b\", 0, 15]))\n",
        "print(filter_list([1, 2, \"aasf\", \"1\", \"123\", 123]))"
      ]
    },
    {
      "cell_type": "code",
      "source": [
        "#2\n",
        "def reverse(string):\n",
        "  reverse_string = string[::]\n",
        "  reverse_string = ''.join([c.upper()if c.islower() else c.lower() for c in reverse_string])\n",
        "  return reverse_string[::-1]\n",
        "\n",
        "print(reverse(\"Hello World\"))\n",
        "print(reverse(\"ReVeRsE\"))\n",
        "print(reverse(\"Radar\"))\n",
        "\n",
        "\n",
        "\n"
      ],
      "metadata": {
        "colab": {
          "base_uri": "https://localhost:8080/"
        },
        "id": "uj-qWR7m9UXy",
        "outputId": "da49ba85-a2e3-42b2-f5de-3506aa7a2443"
      },
      "execution_count": 5,
      "outputs": [
        {
          "output_type": "stream",
          "name": "stdout",
          "text": [
            "DLROw OLLEh\n",
            "eSrEvEr\n",
            "RADAr\n"
          ]
        }
      ]
    },
    {
      "cell_type": "code",
      "source": [
        "#3\n",
        "list_values = [1, 2, 3, 4, 5, 6]\n",
        "\n",
        "first, *middle, last = list_values #'*' operator used to assign everything in between the first and last element of the list\n",
        "\n",
        "print(\"First variable:\", first)\n",
        "print(\"Middle variable:\", middle)\n",
        "print(\"Last variable:\", last)\n"
      ],
      "metadata": {
        "colab": {
          "base_uri": "https://localhost:8080/"
        },
        "id": "4JVRFFntBGHv",
        "outputId": "271d768d-d2e1-4e3d-a7fb-21189f03ad8b"
      },
      "execution_count": 6,
      "outputs": [
        {
          "output_type": "stream",
          "name": "stdout",
          "text": [
            "First variable: 1\n",
            "Middle variable: [2, 3, 4, 5]\n",
            "Last variable: 6\n"
          ]
        }
      ]
    },
    {
      "cell_type": "code",
      "source": [
        "#4\n",
        "def recur_fact(n):\n",
        "  if n == 0 or n == 1:\n",
        "    return 1;\n",
        "  else:\n",
        "    return (n*recur_fact(n-1))\n",
        "\n",
        "print(recur_fact(5))\n",
        "print(recur_fact(3))\n",
        "print(recur_fact(1))\n",
        "\n"
      ],
      "metadata": {
        "colab": {
          "base_uri": "https://localhost:8080/"
        },
        "id": "nLouXR_wCogO",
        "outputId": "7b2c2b93-19df-4661-b923-0105a2119c78"
      },
      "execution_count": 7,
      "outputs": [
        {
          "output_type": "stream",
          "name": "stdout",
          "text": [
            "120\n",
            "6\n",
            "1\n"
          ]
        }
      ]
    },
    {
      "cell_type": "code",
      "source": [
        "#5\n",
        "def move_to_end(lst, elem):\n",
        "    count = lst.count(elem)\n",
        "    lst = [i for i in lst if i != elem] + [elem]*count\n",
        "    return lst\n",
        "print(move_to_end([7, 8, 9,3,9, 1, 2, 9,3, 4], 9))\n",
        "print(move_to_end([\"a\", \"a\", \"a\", \"b\"], \"a\"))"
      ],
      "metadata": {
        "colab": {
          "base_uri": "https://localhost:8080/"
        },
        "id": "vcp9FfHSEIOx",
        "outputId": "2e08d6f0-5ac8-417d-bbe8-dac629c508da"
      },
      "execution_count": 10,
      "outputs": [
        {
          "output_type": "stream",
          "name": "stdout",
          "text": [
            "[7, 8, 3, 1, 2, 3, 4, 9, 9, 9]\n",
            "['b', 'a', 'a', 'a']\n"
          ]
        }
      ]
    },
    {
      "cell_type": "code",
      "source": [],
      "metadata": {
        "id": "Hyc-drcSEwXq"
      },
      "execution_count": null,
      "outputs": []
    }
  ]
}