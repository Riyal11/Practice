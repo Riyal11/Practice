{
  "nbformat": 4,
  "nbformat_minor": 0,
  "metadata": {
    "colab": {
      "provenance": []
    },
    "kernelspec": {
      "name": "python3",
      "display_name": "Python 3"
    },
    "language_info": {
      "name": "python"
    }
  },
  "cells": [
    {
      "cell_type": "markdown",
      "source": [
        "Question 1:\n",
        "Please write a program using generator to print the numbers which can be divisible by 5 and 7 between 0 and n in comma separated form while n is input by console.\n",
        "Example:\n",
        "If the following n is given as input to the program:\n",
        "100\n",
        "Then, the output of the program should be:\n",
        "0,35,70\n",
        "\n",
        "Question 2:\n",
        "Please write a program using generator to print the even numbers between 0 and n in comma separated form while n is input by console.\n",
        "Example:\n",
        "If the following n is given as input to the program:\n",
        "10\n",
        "Then, the output of the program should be:\n",
        "0,2,4,6,8,10\n",
        "\n",
        "Question 3:\n",
        "The Fibonacci Sequence is computed based on the following formula:\n",
        "f(n)=0 if n=0\n",
        "f(n)=1 if n=1\n",
        "f(n)=f(n-1)+f(n-2) if n>1\n",
        "Please write a program using list comprehension to print the Fibonacci Sequence in comma separated form with a given n input by console.\n",
        "Example:\n",
        "If the following n is given as input to the program:\n",
        "7\n",
        "\n",
        "Then, the output of the program should be:\n",
        "0,1,1,2,3,5,8,13\n",
        "\n",
        "Question 4:\n",
        "Assuming that we have some email addresses in the \"username@companyname.com\" format, please write program to print the user name of a given email address. Both user names and company names are composed of letters only.\n",
        "Example:\n",
        "If the following email address is given as input to the program:\n",
        "john@google.com\n",
        "Then, the output of the program should be:\n",
        "john\n",
        "\n",
        "Question 5:\n",
        "Define a class named Shape and its subclass Square. The Square class has an init function which takes a length as argument. Both classes have a area function which can print the area of the shape where Shape's area is 0 by default.\n",
        "\n"
      ],
      "metadata": {
        "id": "sNDSQ6JWm4kS"
      }
    },
    {
      "cell_type": "code",
      "execution_count": 1,
      "metadata": {
        "id": "qRTcV-r-m3MW",
        "colab": {
          "base_uri": "https://localhost:8080/"
        },
        "outputId": "e9511da9-73eb-400f-9bbe-116847c2ebf1"
      },
      "outputs": [
        {
          "output_type": "stream",
          "name": "stdout",
          "text": [
            "Enter a value for n: 100\n",
            "0,35,70\n"
          ]
        }
      ],
      "source": [
        "#1\n",
        "def divisible_by_5_and_7(n):\n",
        "    for i in range(n+1):\n",
        "        if i % 5 == 0 and i % 7 == 0:\n",
        "            yield i\n",
        "\n",
        "n = int(input(\"Enter a value for n: \"))\n",
        "result = divisible_by_5_and_7(n)\n",
        "print(','.join(str(i) for i in result))\n"
      ]
    },
    {
      "cell_type": "code",
      "source": [
        "#2\n",
        "def even_numbers(n):\n",
        "    for i in range(0, n+1, 2):\n",
        "        yield i\n",
        "\n",
        "n = int(input(\"Enter a value for n: \"))\n",
        "result = even_numbers(n)\n",
        "print(','.join(str(i) for i in result))\n"
      ],
      "metadata": {
        "colab": {
          "base_uri": "https://localhost:8080/"
        },
        "id": "25AhTP--CAsI",
        "outputId": "847195e4-07b2-4db2-c556-703520ae24d6"
      },
      "execution_count": 2,
      "outputs": [
        {
          "output_type": "stream",
          "name": "stdout",
          "text": [
            "Enter a value for n: 10\n",
            "0,2,4,6,8,10\n"
          ]
        }
      ]
    },
    {
      "cell_type": "code",
      "source": [
        "#3\n",
        "n = int(input(\"Enter a value for number of terms for Fibonacci seq: \"))\n",
        "\n",
        "fibonacci = [0,1]\n",
        "[fibonacci.append(fibonacci[-1] + fibonacci[-2]) for i in range (2,n+1)]\n",
        "print(\",\".join(str(i) for i in fibonacci[:n+1]))"
      ],
      "metadata": {
        "id": "0SCCdTDjDbBy"
      },
      "execution_count": null,
      "outputs": []
    },
    {
      "cell_type": "code",
      "source": [
        "#4\n",
        "print(\"Enter the email in the format 'username@companyname.com'. \")\n",
        "email = input(\"Enter an email address: \")\n",
        "username = email.split('@')[0]\n",
        "\n",
        "print(\"The username is \",username)"
      ],
      "metadata": {
        "colab": {
          "base_uri": "https://localhost:8080/"
        },
        "id": "xeuQdS3zFJs0",
        "outputId": "dfb3cc4a-edd4-46f1-cfa4-54319feab6a9"
      },
      "execution_count": 4,
      "outputs": [
        {
          "output_type": "stream",
          "name": "stdout",
          "text": [
            "Enter the email in the format 'username@companyname.com'. \n",
            "Enter an email address: john@google.com\n",
            "The username is  john\n"
          ]
        }
      ]
    },
    {
      "cell_type": "code",
      "source": [
        "#5\n",
        "class Shape:\n",
        "    def area(self):\n",
        "        print(\"Area of Shape: 0\")\n",
        "\n",
        "class Square(Shape):\n",
        "    def __init__(self, length):\n",
        "        self.length = length\n",
        "\n",
        "    def area(self):\n",
        "        print(\"Area of Square is:\", self.length ** 2)\n",
        "\n",
        "s = Shape()\n",
        "s.area()\n",
        "\n",
        "sq = Square(5)\n",
        "sq.area()"
      ],
      "metadata": {
        "id": "oMzF3dyCFJgL"
      },
      "execution_count": 6,
      "outputs": []
    },
    {
      "cell_type": "code",
      "source": [],
      "metadata": {
        "id": "FekBJjaSHIQ0"
      },
      "execution_count": null,
      "outputs": []
    }
  ]
}