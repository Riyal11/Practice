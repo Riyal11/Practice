{
  "nbformat": 4,
  "nbformat_minor": 0,
  "metadata": {
    "colab": {
      "provenance": []
    },
    "kernelspec": {
      "name": "python3",
      "display_name": "Python 3"
    },
    "language_info": {
      "name": "python"
    }
  },
  "cells": [
    {
      "cell_type": "markdown",
      "source": [
        "1.\tWrite a Python program to convert kilometers to miles?"
      ],
      "metadata": {
        "id": "c4CP7aZYh2xS"
      }
    },
    {
      "cell_type": "code",
      "execution_count": 2,
      "metadata": {
        "colab": {
          "base_uri": "https://localhost:8080/"
        },
        "id": "yzbSUaXMhro0",
        "outputId": "5d1d620b-ef3c-455b-9873-c83793517f5e"
      },
      "outputs": [
        {
          "output_type": "stream",
          "name": "stdout",
          "text": [
            "Enter in kilometers: 1000\n",
            "1000.0 kilometers in miles is 621.371\n"
          ]
        }
      ],
      "source": [
        "a = float(input(\"Enter in kilometers: \"))\n",
        "miles = 0.621371 * a\n",
        "print(f\"{a} kilometers in miles is {miles}\")"
      ]
    },
    {
      "cell_type": "markdown",
      "source": [
        "2.\tWrite a Python program to convert Celsius to Fahrenheit?"
      ],
      "metadata": {
        "id": "eguQpgmriYJA"
      }
    },
    {
      "cell_type": "code",
      "source": [
        "C = float(input(\"Enter the temperature in Celcius: \"))\n",
        "F = (C * 9/5) + 32\n",
        "print(f\"Temperature in Fahrenheit: {F}\")"
      ],
      "metadata": {
        "colab": {
          "base_uri": "https://localhost:8080/"
        },
        "id": "pPlHNuLaibSL",
        "outputId": "abe94311-133e-432f-e66a-a596d55ffbdb"
      },
      "execution_count": 5,
      "outputs": [
        {
          "output_type": "stream",
          "name": "stdout",
          "text": [
            "Enter the temperature in Celcius: 36.1\n",
            "Temperature in Fahrenheit: 96.98\n"
          ]
        }
      ]
    },
    {
      "cell_type": "markdown",
      "source": [
        "3.\tWrite a Python program to display calendar?"
      ],
      "metadata": {
        "id": "fLG4SfawlIc_"
      }
    },
    {
      "cell_type": "code",
      "source": [
        "import calendar #importing calendar module\n",
        "yy = int(input(\"Enter the year: \"))\n",
        "mm = int(input(\"Enter the month: \"))\n",
        "\n",
        "#display the calendar\n",
        "print(calendar.month(yy,mm))"
      ],
      "metadata": {
        "colab": {
          "base_uri": "https://localhost:8080/"
        },
        "id": "EJ1521BblMjy",
        "outputId": "4e01a4f5-d256-4636-baaf-22c73c686bf5"
      },
      "execution_count": 6,
      "outputs": [
        {
          "output_type": "stream",
          "name": "stdout",
          "text": [
            "Enter the year: 2022\n",
            "Enter the month: 11\n",
            "   November 2022\n",
            "Mo Tu We Th Fr Sa Su\n",
            "    1  2  3  4  5  6\n",
            " 7  8  9 10 11 12 13\n",
            "14 15 16 17 18 19 20\n",
            "21 22 23 24 25 26 27\n",
            "28 29 30\n",
            "\n"
          ]
        }
      ]
    },
    {
      "cell_type": "markdown",
      "source": [
        "4.\tWrite a Python program to solve quadratic equation?"
      ],
      "metadata": {
        "id": "tVtVnnCxilgK"
      }
    },
    {
      "cell_type": "code",
      "source": [
        "# Solve the quadratic equation ax**2 + bx + c = 0\n",
        "\n",
        "# import complex math module\n",
        "import cmath\n",
        "\n",
        "a = int(input(\"Enter Coefficient of x\\u00b2: \"))\n",
        "b = int(input(\"Enter the cofficient of x: \"))\n",
        "c = int(input(\"Enter the constant term : \"))\n",
        "\n",
        "# calculate the discriminant\n",
        "d = (b**2) - (4*a*c)\n",
        "\n",
        "# find two solutions\n",
        "sol1 = (-b-cmath.sqrt(d))/(2*a)\n",
        "sol2 = (-b+cmath.sqrt(d))/(2*a)\n",
        "\n",
        "print(f\"The Solution of the eqn {a}x\\u00b2 + {b}x +{c} = 0 are {sol1} and {sol2}\")\n"
      ],
      "metadata": {
        "colab": {
          "base_uri": "https://localhost:8080/"
        },
        "id": "QHkix9H1mE6d",
        "outputId": "22e76dce-96a2-413c-d2f0-377644f4e7c1"
      },
      "execution_count": 9,
      "outputs": [
        {
          "output_type": "stream",
          "name": "stdout",
          "text": [
            "Enter Coefficient of x²: 1\n",
            "Enter the cofficient of x: 5\n",
            "Enter the constant term : 6\n",
            "The Solution of the eqn 1x² + 5x +6 = 0 are (-3+0j) and (-2+0j)\n"
          ]
        }
      ]
    },
    {
      "cell_type": "markdown",
      "source": [
        "5.\tWrite a Python program to swap two variables without temp variable?"
      ],
      "metadata": {
        "id": "QgEn1vjtlN1E"
      }
    },
    {
      "cell_type": "code",
      "source": [
        "x = input(\"Enter the value to the variable x: \")\n",
        "y = input(\"Enter the value to the variable y: \")\n",
        "\n",
        "print(\"Before Swapping\")\n",
        "print(f\"Value of x: {x}, Value of y: {y}\")\n",
        "\n",
        "#code to swap 'x' and 'y'\n",
        "x, y = y, x\n",
        "print(\"After swapping\")\n",
        "print(f\"Value of x: {x} , Value of y: {y}\")\n"
      ],
      "metadata": {
        "colab": {
          "base_uri": "https://localhost:8080/"
        },
        "id": "UJkfOWJxlQU1",
        "outputId": "401b53b0-0d3d-453e-cafb-d7601043fd9d"
      },
      "execution_count": 11,
      "outputs": [
        {
          "output_type": "stream",
          "name": "stdout",
          "text": [
            "Enter the value to the variable x: 9\n",
            "Enter the value to the variable y: 6\n",
            "Before Swapping\n",
            "Value of x: 9, Value of y: 6\n",
            "After swapping\n",
            "Value of x: 6 , Value of y: 9\n"
          ]
        }
      ]
    },
    {
      "cell_type": "code",
      "source": [],
      "metadata": {
        "id": "OM-BLKAMq5Lw"
      },
      "execution_count": null,
      "outputs": []
    }
  ]
}