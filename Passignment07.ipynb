{
  "nbformat": 4,
  "nbformat_minor": 0,
  "metadata": {
    "colab": {
      "provenance": []
    },
    "kernelspec": {
      "name": "python3",
      "display_name": "Python 3"
    },
    "language_info": {
      "name": "python"
    }
  },
  "cells": [
    {
      "cell_type": "code",
      "source": [
        "a = [1,2,3,4,5,6]\n"
      ],
      "metadata": {
        "id": "n4GS5dHdOQW-"
      },
      "execution_count": 4,
      "outputs": []
    },
    {
      "cell_type": "code",
      "source": [],
      "metadata": {
        "colab": {
          "base_uri": "https://localhost:8080/"
        },
        "id": "QX3GoU3-OXG6",
        "outputId": "9723798e-7353-46de-ecdc-ba9562cfc1fe"
      },
      "execution_count": 8,
      "outputs": [
        {
          "output_type": "execute_result",
          "data": {
            "text/plain": [
              "[1, 2]"
            ]
          },
          "metadata": {},
          "execution_count": 8
        }
      ]
    },
    {
      "cell_type": "markdown",
      "source": [
        "1.\tWrite a Python Program to find sum of array?"
      ],
      "metadata": {
        "id": "srbiOgxxKgCE"
      }
    },
    {
      "cell_type": "code",
      "execution_count": 1,
      "metadata": {
        "colab": {
          "base_uri": "https://localhost:8080/"
        },
        "id": "hiJatCo1KN7k",
        "outputId": "ad451a0e-4630-4f68-fb87-1f0a34d97e2b"
      },
      "outputs": [
        {
          "output_type": "stream",
          "name": "stdout",
          "text": [
            "Sum of all the elements of an array:15\n"
          ]
        }
      ],
      "source": [
        "arr=[1,2,3,4,5,6,7,8,9,10]\n",
        "sum = 0\n",
        "\n",
        "#loop through the array to calculate sum of elements\n",
        "for i in range (0,len(arr)):\n",
        "  sum = sum + arr[i];\n",
        "\n",
        "print(\"Sum of all the elements of an array:\" + str(sum));"
      ]
    },
    {
      "cell_type": "markdown",
      "source": [
        "2.\tWrite a Python Program to find largest element in an array?"
      ],
      "metadata": {
        "id": "ukya3Z0IKifn"
      }
    },
    {
      "cell_type": "code",
      "source": [
        "arr = [10,20,30,50,40,80]\n",
        "largest = max(arr)\n",
        "print(\" The largest element in the array is:\", largest)"
      ],
      "metadata": {
        "colab": {
          "base_uri": "https://localhost:8080/"
        },
        "id": "Su8q9EcFKpfH",
        "outputId": "b9b7ef27-7eab-49eb-f1bc-9aab3dd09ab9"
      },
      "execution_count": 2,
      "outputs": [
        {
          "output_type": "stream",
          "name": "stdout",
          "text": [
            " The largest element in the array is: 80\n"
          ]
        }
      ]
    },
    {
      "cell_type": "markdown",
      "source": [
        "3.\tWrite a Python Program for array rotation?"
      ],
      "metadata": {
        "id": "DCos1G8uKpzi"
      }
    },
    {
      "cell_type": "code",
      "source": [
        "arr=[1,2,3,4,5,5,8,9,12]\n",
        "print(\"Original array:\",arr)\n",
        "k = int(input(\"Enter the number for rotation = \"))\n",
        "n =len(arr)\n",
        "k = k%n\n",
        "arr1 = arr[k:]+ arr[:k] #slice the array into two parts and join them after swapping\n",
        "\n",
        "print(f\"Array rotated by\",k,\"position\",arr1)"
      ],
      "metadata": {
        "colab": {
          "base_uri": "https://localhost:8080/"
        },
        "id": "-qKGrfcHKsCK",
        "outputId": "e7913450-68a4-4be0-d1a5-85125bec79a7"
      },
      "execution_count": 3,
      "outputs": [
        {
          "output_type": "stream",
          "name": "stdout",
          "text": [
            "Original array: [1, 2, 3, 4, 5, 5, 8, 9, 12]\n",
            "Enter the number for rotation = 2\n",
            "Array rotated by 2 position [3, 4, 5, 5, 8, 9, 12, 1, 2]\n"
          ]
        }
      ]
    },
    {
      "cell_type": "markdown",
      "source": [
        "4.\tWrite a Python Program to Split the array and add the first part to the end?"
      ],
      "metadata": {
        "id": "ZkOVTOjeKu03"
      }
    },
    {
      "cell_type": "code",
      "source": [
        "arr2 = [5,4,6,7,8,1,2,12,3,18]\n",
        "print(\"Original array:\",arr2)\n",
        "n= int(input(\"Enter the position from where you want split =\"))\n",
        "\n",
        "arr2= arr[n:] +arr[:n]\n",
        "print(f\"Array with first\",k,\"elements added to end:\",arr2)"
      ],
      "metadata": {
        "colab": {
          "base_uri": "https://localhost:8080/"
        },
        "id": "njXfFHfSKuZ2",
        "outputId": "2380d052-e74a-4d3a-85e2-e46085f7a241"
      },
      "execution_count": 9,
      "outputs": [
        {
          "output_type": "stream",
          "name": "stdout",
          "text": [
            "Original array: [5, 4, 6, 7, 8, 1, 2, 12, 3, 18]\n",
            "Enter the position from where you want split =2\n",
            "Array with first 2 elements added to end: [3, 4, 5, 5, 8, 9, 12, 1, 2]\n"
          ]
        }
      ]
    },
    {
      "cell_type": "markdown",
      "source": [
        "5.\tWrite a Python Program to check if given array is Monotonic?"
      ],
      "metadata": {
        "id": "MIu86E26KweL"
      }
    },
    {
      "cell_type": "code",
      "source": [
        "def is_monotonic(arr):\n",
        "  #check if array is non increasing\n",
        "  non_increasing = all(arr[i] >= arr[i+1] for i in range(len(arr)-1))\n",
        "  if non_increasing:\n",
        "    return \"Array is Monotonic.\"\n",
        "\n",
        "  #check if array is non decreasing\n",
        "  non_decreasing = all(arr[i] <= arr[i+1] for i in range(len(arr)-1))\n",
        "  if non_decreasing:\n",
        "    return \"Array is monotonic.\"\n",
        "  #array is not monotonic\n",
        "  return \"Array is non Monotonic.\"\n",
        "\n",
        "#defining 3 arrays\n",
        "arr1 = [1,2,3,4,5]\n",
        "arr2 = [9,8,7,6,5]\n",
        "arr3 = [1,3,4,8,7]\n",
        "print(f\"arr1 is\",arr1)\n",
        "print(f\"arr2 is\",arr2)\n",
        "print(f\"arr3 is\",arr3)\n",
        "\n",
        "#check if arrays are monotonic\n",
        "print(\"Is arr1 monotonic?\")\n",
        "print(is_monotonic(arr1))\n",
        "print(\"Is arr2 monotonic?\")\n",
        "print(is_monotonic(arr2))\n",
        "print(\"Is arr3 monotonic?\")\n",
        "print(is_monotonic(arr3))"
      ],
      "metadata": {
        "colab": {
          "base_uri": "https://localhost:8080/"
        },
        "id": "UmsrLzZOKv_x",
        "outputId": "2355b4eb-c175-4d8b-9693-d1bc2cb10665"
      },
      "execution_count": 15,
      "outputs": [
        {
          "output_type": "stream",
          "name": "stdout",
          "text": [
            "arr1 is [1, 2, 3, 4, 5]\n",
            "arr2 is [9, 8, 7, 6, 5]\n",
            "arr3 is [1, 3, 4, 8, 7]\n",
            "Is arr1 monotonic?\n",
            "Array is monotonic.\n",
            "Is arr2 monotonic?\n",
            "Array is Monotonic.\n",
            "Is arr3 monotonic?\n",
            "Array is non Monotonic.\n"
          ]
        }
      ]
    },
    {
      "cell_type": "code",
      "source": [],
      "metadata": {
        "id": "VPb37l-yTgLg"
      },
      "execution_count": null,
      "outputs": []
    }
  ]
}