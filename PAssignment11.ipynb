{
  "nbformat": 4,
  "nbformat_minor": 0,
  "metadata": {
    "colab": {
      "provenance": []
    },
    "kernelspec": {
      "name": "python3",
      "display_name": "Python 3"
    },
    "language_info": {
      "name": "python"
    }
  },
  "cells": [
    {
      "cell_type": "markdown",
      "source": [
        "1.\tWrite a Python program to find words which are greater than given length k?\n",
        "2.\tWrite a Python program for removing i-th character from a string?\n",
        "3.\tWrite a Python program to split and join a string?\n",
        "4.\tWrite a Python to check if a given string is binary string or not?\n",
        "5.\tWrite a Python program to find uncommon words from two Strings?\n",
        "6.\tWrite a Python to find all duplicate characters in string?\n",
        "7.\tWrite a Python Program to check if a string contains any special character?\n"
      ],
      "metadata": {
        "id": "Uum9jmGNfx2i"
      }
    },
    {
      "cell_type": "code",
      "execution_count": 3,
      "metadata": {
        "id": "yNESaxisfs4J",
        "colab": {
          "base_uri": "https://localhost:8080/"
        },
        "outputId": "dc05e831-73f9-4e2f-feb9-7aad05582f2e"
      },
      "outputs": [
        {
          "output_type": "stream",
          "name": "stdout",
          "text": [
            "Enter the length of word to get words greater than given length 4\n",
            "['Hello,', 'assignment', 'Python', 'programming']\n"
          ]
        }
      ],
      "source": [
        "sentence = \"Hello, this is assignment 11 for Python programming\"\n",
        "length = int(input(\"Enter the length of word to get words greater than given length \"))\n",
        "print([word for word in sentence.split() if len(word) > length])"
      ]
    },
    {
      "cell_type": "code",
      "source": [
        "def remove(string,i):\n",
        "  a =string[:i]\n",
        "\n",
        "  b= string[i+1:]\n",
        "\n",
        "  return a + b\n",
        "\n",
        "string = \"iNeuronAI\"\n",
        "#Remove nth index element \n",
        "i = 5\n",
        "print(remove(string,i))"
      ],
      "metadata": {
        "colab": {
          "base_uri": "https://localhost:8080/"
        },
        "id": "hMMVizDZYYzQ",
        "outputId": "f8ad0f0e-c635-4944-abab-21c7d0c3c017"
      },
      "execution_count": 6,
      "outputs": [
        {
          "output_type": "stream",
          "name": "stdout",
          "text": [
            "iNeurnAI\n"
          ]
        }
      ]
    },
    {
      "cell_type": "code",
      "source": [
        "s = 'This is programming assignment'\n",
        "# print the string after split method\n",
        "print(s.split(\" \"))\n",
        "# print the string after join method\n",
        "print(\"-\".join(s.split()))\n",
        " "
      ],
      "metadata": {
        "colab": {
          "base_uri": "https://localhost:8080/"
        },
        "id": "DVDXZUxvaReJ",
        "outputId": "846e7716-21f6-4db1-8325-be0104b1678d"
      },
      "execution_count": 7,
      "outputs": [
        {
          "output_type": "stream",
          "name": "stdout",
          "text": [
            "['This', 'is', 'programming', 'assignment']\n",
            "This-is-programming-assignment\n"
          ]
        }
      ]
    },
    {
      "cell_type": "code",
      "source": [
        "#binary string check \n",
        "def check(string):\n",
        "  p = set(string)\n",
        "  s={'0','1'}\n",
        "  if s == p or p == {'0'} or p == {'1'}:\n",
        "    print(f\" Yes the given string {string} is binary\")\n",
        "  else:\n",
        "    print(f\"No the string {string} is not binary\")\n",
        "string1 = \"THis is sample string 1010101\"\n",
        "string2 = \"10101011101\"\n",
        "\n",
        "check(string1)\n",
        "check(string2)"
      ],
      "metadata": {
        "colab": {
          "base_uri": "https://localhost:8080/"
        },
        "id": "cQ_pWt8GbuEh",
        "outputId": "f065e555-e607-4ce9-aff6-0ea4fec228f1"
      },
      "execution_count": 9,
      "outputs": [
        {
          "output_type": "stream",
          "name": "stdout",
          "text": [
            "No the string THis is sample string 1010101 is not binary\n",
            " Yes the given string 10101011101 is binary\n"
          ]
        }
      ]
    },
    {
      "cell_type": "code",
      "source": [
        "#uncommon words in strings\n",
        "\n",
        "def UncommonWords(A,B):\n",
        "  setA = set(A.split())\n",
        "  setB = set(B.split())\n",
        "\n",
        "  uncommonwords = setA.difference(setB).union(setB.difference(setA))\n",
        "\n",
        "  return list(uncommonwords)\n",
        "\n",
        "S1 = \"iNeuronAI\"\n",
        "S2 = \"Learning from iNeuronAI\"\n",
        "\n",
        "print(UncommonWords(S1,S2))"
      ],
      "metadata": {
        "colab": {
          "base_uri": "https://localhost:8080/"
        },
        "id": "ViDh2KMhdy16",
        "outputId": "f5616c78-e33c-42bc-cad0-4ce611031040"
      },
      "execution_count": 12,
      "outputs": [
        {
          "output_type": "stream",
          "name": "stdout",
          "text": [
            "['from', 'Learning']\n"
          ]
        }
      ]
    },
    {
      "cell_type": "code",
      "source": [
        "def Commonwords(a,b):\n",
        "  seta = set(a.split())\n",
        "  setb = set(b.split())\n",
        "\n",
        "  commonwords = seta.intersection(setb)\n",
        "  return list(commonwords)\n",
        "\n",
        "S1 = \"iNeuronAI\"\n",
        "S2 = \"Learning from iNeuronAI\"\n",
        "\n",
        "print(Commonwords(S1,S2))"
      ],
      "metadata": {
        "colab": {
          "base_uri": "https://localhost:8080/"
        },
        "id": "tT-nOkK8f91Q",
        "outputId": "aaaa5d46-d171-4733-ace9-4eacc727ef34"
      },
      "execution_count": 13,
      "outputs": [
        {
          "output_type": "stream",
          "name": "stdout",
          "text": [
            "['iNeuronAI']\n"
          ]
        }
      ]
    },
    {
      "cell_type": "code",
      "source": [
        "def spclchar(string):\n",
        "    s = set('[@_!#$%^&*()<>?/\\|}{~:]')\n",
        "    cmnchar = s.intersection(string)\n",
        "\n",
        "    if len(cmnchar) == 0:\n",
        "        return \"The given string has no special characters\"\n",
        "    else:\n",
        "        return \"The given string contains special characters: \" + \", \".join(cmnchar)\n",
        "\n",
        "n = \"ineuronai\"\n",
        "n2 = \"$iNeuron@i\"\n",
        "\n",
        "print(spclchar(n))\n",
        "print(spclchar(n2))\n"
      ],
      "metadata": {
        "colab": {
          "base_uri": "https://localhost:8080/"
        },
        "id": "kapc4Mwdh9jI",
        "outputId": "4cf9f1df-e56b-449f-d45b-2c004f0dd892"
      },
      "execution_count": 19,
      "outputs": [
        {
          "output_type": "stream",
          "name": "stdout",
          "text": [
            "The given string has no special characters\n",
            "The given string contains special characters: $, @\n"
          ]
        }
      ]
    }
  ]
}