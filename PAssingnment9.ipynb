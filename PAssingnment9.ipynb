{
  "nbformat": 4,
  "nbformat_minor": 0,
  "metadata": {
    "colab": {
      "provenance": []
    },
    "kernelspec": {
      "name": "python3",
      "display_name": "Python 3"
    },
    "language_info": {
      "name": "python"
    }
  },
  "cells": [
    {
      "cell_type": "markdown",
      "source": [
        "1.\tWrite a Python program to check if the given number is a Disarium Number?\n",
        "2.\tWrite a Python program to print all disarium numbers between 1 to 100?\n",
        "3.\tWrite a Python program to check if the given number is Happy Number?\n",
        "4.\tWrite a Python program to print all happy numbers between 1 and 100?\n",
        "5.\tWrite a Python program to determine whether the given number is a Harshad Number?\n",
        "6.\tWrite a Python program to print all pronic numbers between 1 and 100?\n"
      ],
      "metadata": {
        "id": "QOvdhwbHdzV7"
      }
    },
    {
      "cell_type": "code",
      "execution_count": 6,
      "metadata": {
        "id": "JldyD1YWdulD",
        "colab": {
          "base_uri": "https://localhost:8080/"
        },
        "outputId": "cde4d21f-f3ce-4f85-a146-adc412913d0e"
      },
      "outputs": [
        {
          "output_type": "stream",
          "name": "stdout",
          "text": [
            "Enter the number: 56\n",
            "The number 56 is not disarium.\n"
          ]
        }
      ],
      "source": [
        "def is_disarium(n):\n",
        "  temp = 0\n",
        "  for i in range(len(str(n))):\n",
        "    temp = temp + int(str(n)[i]) ** (i+1)\n",
        "  \n",
        "  if (temp == n):\n",
        "    print(f\"The number {n} is disarium.\")\n",
        "  else:\n",
        "    print(f\"The number {n} is not disarium.\")\n",
        "\n",
        "  return None\n",
        "  \n",
        "\n",
        "n = int(input(\"Enter the number: \"))\n",
        "is_disarium(n)"
      ]
    },
    {
      "cell_type": "code",
      "source": [
        "#function to check disarium\n",
        "def is_disarium(n):\n",
        "  temp = 0\n",
        "  for k in range(len(str(n))):\n",
        "    temp = temp + int(str(n)[k]) ** (k+1)\n",
        "\n",
        "  if (temp == n):\n",
        "    return True\n",
        "  else:\n",
        "    return False\n",
        "#print all disarium number between 1 to 100\n",
        "for i in range(1,100+1):\n",
        "  if(is_disarium(i) == True):\n",
        "    print(i)\n",
        "  \n"
      ],
      "metadata": {
        "colab": {
          "base_uri": "https://localhost:8080/"
        },
        "id": "hKNIO-KDRxqM",
        "outputId": "1466b1d7-de17-469e-eb9d-658e9260d7c1"
      },
      "execution_count": 18,
      "outputs": [
        {
          "output_type": "stream",
          "name": "stdout",
          "text": [
            "1\n",
            "2\n",
            "3\n",
            "4\n",
            "5\n",
            "6\n",
            "7\n",
            "8\n",
            "9\n",
            "89\n"
          ]
        }
      ]
    },
    {
      "cell_type": "code",
      "source": [
        "#CHECK HAPPY NUMBER\n",
        "\n",
        "def is_Happy_num(n):\n",
        "  past = set()\n",
        "  while n != 1:\n",
        "      n = sum(int(i) ** 2 for i in str(n))\n",
        "      if n in past:\n",
        "        return False\n",
        "      past.add(n)\n",
        "  return True\n",
        "\n",
        "num = int(input(\"Enter the number to check if it is Happy number: \"))\n",
        "is_Happy_num(num)\n",
        "if (is_Happy_num(num) == True):\n",
        "  print(f\"The number {num} is happy number\")"
      ],
      "metadata": {
        "colab": {
          "base_uri": "https://localhost:8080/"
        },
        "id": "wHpQD_FPUhfL",
        "outputId": "c31995e7-a4ac-4bc8-8d01-352f37d0d556"
      },
      "execution_count": 13,
      "outputs": [
        {
          "output_type": "stream",
          "name": "stdout",
          "text": [
            "Enter the number to check if it is Happy number: 49\n",
            "The number 49 is happy number\n"
          ]
        }
      ]
    },
    {
      "cell_type": "code",
      "source": [
        "#\n",
        "def is_Happy_num(n):\n",
        "  past = set()\n",
        "  while n != 1:\n",
        "      n = sum(int(i) ** 2 for i in str(n))\n",
        "      if n in past:\n",
        "        return False\n",
        "      past.add(n)\n",
        "  return True\n",
        "#\n",
        "for i in range (1,100+1):\n",
        "  if (is_Happy_num(i) == True):\n",
        "    print(i)"
      ],
      "metadata": {
        "colab": {
          "base_uri": "https://localhost:8080/"
        },
        "id": "uTUeJGSMaBiE",
        "outputId": "a8bf0a64-343c-48f0-89fd-979ea2c410d3"
      },
      "execution_count": 15,
      "outputs": [
        {
          "output_type": "stream",
          "name": "stdout",
          "text": [
            "1\n",
            "7\n",
            "10\n",
            "13\n",
            "19\n",
            "23\n",
            "28\n",
            "31\n",
            "32\n",
            "44\n",
            "49\n",
            "68\n",
            "70\n",
            "79\n",
            "82\n",
            "86\n",
            "91\n",
            "94\n",
            "97\n",
            "100\n"
          ]
        }
      ]
    },
    {
      "cell_type": "code",
      "source": [
        "#Python program to check \n",
        "#if a number is Harshad number or not\n",
        "\n",
        "def checkHarshad(n):\n",
        "  st = str(n)\n",
        "\n",
        "  sum = 0\n",
        "  length = len(st)\n",
        "\n",
        "  for i in st:\n",
        "    sum = sum + int(i)\n",
        "\n",
        "  if(n % sum == 0):\n",
        "    return \"The number is Harshad Number\"\n",
        "  else:\n",
        "    return \"The Number is not Harshad Number\"\n",
        "\n",
        "number = int(input(\"Enter the number:- \"))\n",
        "checkHarshad(number)\n",
        "  "
      ],
      "metadata": {
        "colab": {
          "base_uri": "https://localhost:8080/",
          "height": 53
        },
        "id": "y2xsEPkyaBXC",
        "outputId": "988c68bd-d622-4220-b57a-d966518cccfe"
      },
      "execution_count": 19,
      "outputs": [
        {
          "name": "stdout",
          "output_type": "stream",
          "text": [
            "Enter the number:- 18\n"
          ]
        },
        {
          "output_type": "execute_result",
          "data": {
            "text/plain": [
              "'The number is Harshad Number'"
            ],
            "application/vnd.google.colaboratory.intrinsic+json": {
              "type": "string"
            }
          },
          "metadata": {},
          "execution_count": 19
        }
      ]
    },
    {
      "cell_type": "code",
      "source": [
        "from traitlets.config.application import T\n",
        "def checkHarshad(n):\n",
        "  st = str(n)\n",
        "\n",
        "  sum = 0\n",
        "  length = len(st)\n",
        "\n",
        "  for i in st:\n",
        "    sum = sum + int(i)\n",
        "\n",
        "  if(n % sum == 0):\n",
        "    return True\n",
        "  else:\n",
        "    return False\n",
        "\n",
        "for i in range(1,100+1):\n",
        "  if(checkHarshad(i) == True):\n",
        "    print(i)"
      ],
      "metadata": {
        "colab": {
          "base_uri": "https://localhost:8080/"
        },
        "id": "tQjGU9lcdte5",
        "outputId": "e03cd32d-521e-413e-d283-a88f3afa0a51"
      },
      "execution_count": 20,
      "outputs": [
        {
          "output_type": "stream",
          "name": "stdout",
          "text": [
            "1\n",
            "2\n",
            "3\n",
            "4\n",
            "5\n",
            "6\n",
            "7\n",
            "8\n",
            "9\n",
            "10\n",
            "12\n",
            "18\n",
            "20\n",
            "21\n",
            "24\n",
            "27\n",
            "30\n",
            "36\n",
            "40\n",
            "42\n",
            "45\n",
            "48\n",
            "50\n",
            "54\n",
            "60\n",
            "63\n",
            "70\n",
            "72\n",
            "80\n",
            "81\n",
            "84\n",
            "90\n",
            "100\n"
          ]
        }
      ]
    },
    {
      "cell_type": "code",
      "source": [],
      "metadata": {
        "id": "1MVj_uOyeYrb"
      },
      "execution_count": null,
      "outputs": []
    }
  ]
}