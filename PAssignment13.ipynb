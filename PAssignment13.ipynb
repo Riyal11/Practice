{
  "nbformat": 4,
  "nbformat_minor": 0,
  "metadata": {
    "colab": {
      "provenance": []
    },
    "kernelspec": {
      "name": "python3",
      "display_name": "Python 3"
    },
    "language_info": {
      "name": "python"
    }
  },
  "cells": [
    {
      "cell_type": "markdown",
      "source": [
        "Question 1:\n",
        "\n",
        "Write a program that calculates and prints the value according to the given formula:\n",
        "\n",
        "Q = Square root of [(2 * C * D)/H]\n",
        "\n",
        "Following are the fixed values of C and H:\n",
        "\n",
        "C is 50. H is 30.\n",
        "\n",
        "D is the variable whose values should be input to your program in a comma-separated sequence.\n",
        "\n",
        "Example\n",
        "\n",
        "Let us assume the following comma separated input sequence is given to the program:\n",
        "\n",
        "100,150,180\n",
        "\n",
        "The output of the program should be:\n",
        "\n",
        "18,22,24\n",
        "\n",
        "Question 2:\n",
        "Write a program which takes 2 digits, X,Y as input and generates a 2-dimensional array. The element value in the i-th row and j-th column of the array should be i*j.\n",
        "\n",
        "Note: i=0,1.., X-1; j=0,1,¡¬Y-1.\n",
        "\n",
        "Example\n",
        "\n",
        "Suppose the following inputs are given to the program:\n",
        "\n",
        "3,5\n",
        "\n",
        "Then, the output of the program should be:\n",
        "\n",
        "[[0, 0, 0, 0, 0], [0, 1, 2, 3, 4], [0, 2, 4, 6, 8]] \n",
        "\n",
        "\n",
        "Question 3:\n",
        "Write a program that accepts a comma separated sequence of words as input and prints the words in a comma-separated sequence after sorting them alphabetically.\n",
        "\n",
        "Suppose the following input is supplied to the program:\n",
        "\n",
        "without,hello,bag,world\n",
        "\n",
        "Then, the output should be:\n",
        "\n",
        "bag,hello,without,world\n",
        "\n",
        "\n",
        "\n",
        "Question 4:\n",
        "Write a program that accepts a sequence of whitespace separated words as input and prints the words after removing all duplicate words and sorting them alphanumerically.\n",
        "\n",
        "Suppose the following input is supplied to the program:\n",
        "\n",
        "hello world and practice makes perfect and hello world again\n",
        "\n",
        "Then, the output should be:\n",
        "\n",
        "again and hello makes perfect practice world\n",
        "\n",
        "Question 5:\n",
        "Write a program that accepts a sentence and calculate the number of letters and digits.\n",
        "\n",
        "Suppose the following input is supplied to the program:\n",
        "\n",
        "hello world! 123\n",
        "\n",
        "Then, the output should be:\n",
        "\n",
        "LETTERS 10\n",
        "\n",
        "DIGITS 3\n",
        "\n",
        "Question 6:\n",
        "A website requires the users to input username and password to register. Write a program to check the validity of password input by users.\n",
        "\n",
        "Following are the criteria for checking the password:\n",
        "\n",
        "1. At least 1 letter between [a-z]\n",
        "\n",
        "2. At least 1 number between [0-9]\n",
        "\n",
        "1. At least 1 letter between [A-Z]\n",
        "\n",
        "3. At least 1 character from [$#@]\n",
        "\n",
        "4. Minimum length of transaction password: 6\n",
        "\n",
        "5. Maximum length of transaction password: 12\n",
        "\n",
        "Your program should accept a sequence of comma separated passwords and will check them according to the above criteria. Passwords that match the criteria are to be printed, each separated by a comma.\n",
        "\n",
        "Example\n",
        "\n",
        "If the following passwords are given as input to the program:\n",
        "\n",
        "ABd1234@1,a F1#,2w3E*,2We3345\n",
        "\n",
        "Then, the output of the program should be:\n",
        "\n",
        "ABd1234@1\n",
        "\n"
      ],
      "metadata": {
        "id": "Af7PYrrLmXh0"
      }
    },
    {
      "cell_type": "code",
      "execution_count": 3,
      "metadata": {
        "id": "iBkEXMwCmVYW",
        "colab": {
          "base_uri": "https://localhost:8080/"
        },
        "outputId": "949ef286-1f4a-466b-b06f-e13d3c362415"
      },
      "outputs": [
        {
          "output_type": "stream",
          "name": "stdout",
          "text": [
            "Enter comma separated sequence of D values: 100,150,180\n",
            "18,22,24\n"
          ]
        }
      ],
      "source": [
        "#1\n",
        "import math\n",
        "\n",
        "C = 50\n",
        "H = 30\n",
        "#Read input sequence of D values from user\n",
        "D = input(\"Enter comma separated sequence of D values: \")\n",
        "#split the string into list of integers\n",
        "D_list = [int(d) for d in D.split(\",\")]\n",
        "\n",
        "# calculate Q for each value of D and print the output\n",
        "Q_list = [int(math.sqrt((2*C*d)/H)) for d in D_list]\n",
        "\n",
        "print(\",\".join(str(q) for q in Q_list))\n"
      ]
    },
    {
      "cell_type": "code",
      "source": [
        "#2\n",
        "# Read input values for X and Y\n",
        "X, Y = map(int, input(\"Enter two integers (X,Y): \").split(\",\"))\n",
        "\n",
        "# Initialize empty 2D array with dimensions X by Y\n",
        "array = [[0 for j in range(Y)] for i in range(X)]\n",
        "\n",
        "# Fill array with values according to formula i*j\n",
        "for i in range(X):\n",
        "    for j in range(Y):\n",
        "        array[i][j] = i*j\n",
        "\n",
        "# Print the resulting 2D array\n",
        "print(array)\n"
      ],
      "metadata": {
        "colab": {
          "base_uri": "https://localhost:8080/"
        },
        "id": "EiGz98BoiFe8",
        "outputId": "58b424ab-fcf2-4bb4-8497-6b09e73f2399"
      },
      "execution_count": 4,
      "outputs": [
        {
          "output_type": "stream",
          "name": "stdout",
          "text": [
            "Enter two integers (X,Y): 3,5\n",
            "[[0, 0, 0, 0, 0], [0, 1, 2, 3, 4], [0, 2, 4, 6, 8]]\n"
          ]
        }
      ]
    },
    {
      "cell_type": "code",
      "source": [
        "x = \"3,5\""
      ],
      "metadata": {
        "id": "32R1PetdjOw3"
      },
      "execution_count": 8,
      "outputs": []
    },
    {
      "cell_type": "code",
      "source": [
        "x.split(\",\")"
      ],
      "metadata": {
        "colab": {
          "base_uri": "https://localhost:8080/"
        },
        "id": "DChtkzGzjkdM",
        "outputId": "0f1247f8-dd82-4a40-e58d-624bbfccf6a1"
      },
      "execution_count": 9,
      "outputs": [
        {
          "output_type": "execute_result",
          "data": {
            "text/plain": [
              "['3', '5']"
            ]
          },
          "metadata": {},
          "execution_count": 9
        }
      ]
    },
    {
      "cell_type": "code",
      "source": [
        "#3\n",
        "words = input(\"Enter comma -separated sequence of words: \")\n",
        "words_list = words.split(\",\")\n",
        "\n",
        "words_list.sort()\n",
        "\n",
        "sorted_word_seq = \",\".join(words_list)\n",
        "\n",
        "print(sorted_word_seq)"
      ],
      "metadata": {
        "colab": {
          "base_uri": "https://localhost:8080/"
        },
        "id": "436nio8sjnTj",
        "outputId": "da4cb387-78e7-4dfd-fcd8-ec6910e0cddf"
      },
      "execution_count": 10,
      "outputs": [
        {
          "name": "stdout",
          "output_type": "stream",
          "text": [
            "Enter comma -separated sequence of words: without,hello,bag,world\n"
          ]
        }
      ]
    },
    {
      "cell_type": "code",
      "source": [
        "#4\n",
        "wrds = input(\"Enter whitespace-separated sequence of words: \")\n",
        "\n",
        "wrds_lst = wrds.split()\n",
        "\n",
        "wrdset = set(wrds_lst)\n",
        "\n",
        "sorted_wrds_lst = sorted(wrdset)\n",
        "\n",
        "sorted_seq = \" \".join(sorted_wrds_lst)\n",
        "\n",
        "print(sorted_seq)"
      ],
      "metadata": {
        "colab": {
          "base_uri": "https://localhost:8080/"
        },
        "id": "bNlm1tuYk4MS",
        "outputId": "7210dd00-0be3-4855-a046-8d6ed503fc34"
      },
      "execution_count": 12,
      "outputs": [
        {
          "output_type": "stream",
          "name": "stdout",
          "text": [
            "Enter whitespace-separated sequence of words: hello world and practice makes perfect and hello world again\n",
            "again and hello makes perfect practice world\n"
          ]
        }
      ]
    },
    {
      "cell_type": "code",
      "source": [
        "#5\n",
        "# input sentence from user\n",
        "sentence = input(\"Enter a sentence: \")\n",
        "\n",
        "# counters for letters and digits\n",
        "letter_count = 0\n",
        "digit_count = 0\n",
        "\n",
        "# iterate over each character in the sentence\n",
        "for char in sentence:\n",
        "    # Check if the character is a letter\n",
        "    if char.isalpha():\n",
        "        letter_count += 1\n",
        "    # Check if the character is a digit\n",
        "    elif char.isdigit():\n",
        "        digit_count += 1\n",
        "\n",
        "# Print the counts of letters and digits\n",
        "print(\"LETTERS\", letter_count)\n",
        "print(\"DIGITS\", digit_count)\n"
      ],
      "metadata": {
        "colab": {
          "base_uri": "https://localhost:8080/"
        },
        "id": "J1QIqqhWmsjf",
        "outputId": "73c7aa5b-7a82-4c6f-af3a-180dc54f0bad"
      },
      "execution_count": 13,
      "outputs": [
        {
          "output_type": "stream",
          "name": "stdout",
          "text": [
            "Enter a sentence: hello world 123\n",
            "LETTERS 10\n",
            "DIGITS 3\n"
          ]
        }
      ]
    },
    {
      "cell_type": "code",
      "source": [
        "#6 \n",
        "passwords = input(\"Enter comma-separated passwords: \")\n",
        "\n",
        "psswd_list = passwords.split(\",\")\n",
        "\n",
        "def is_valid_password(password):\n",
        "\n",
        "  if len(password) < 6 or len(password)>12:\n",
        "    return False\n",
        "  if not any(char.islower() for char in password):\n",
        "    return False\n",
        "  if not any(char.isupper() for char in password):\n",
        "    return False\n",
        "  if not any(char.isdigit() for char in password):\n",
        "    return False\n",
        "  if not any(char in \"$#@\" for char in password):\n",
        "    return False\n",
        "  return True\n",
        "\n",
        "valid_passwd = []\n",
        "for password in psswd_list:\n",
        "  if is_valid_password(password):\n",
        "    valid_passwd.append(password)\n",
        "\n",
        "print(\",\".join(valid_passwd))"
      ],
      "metadata": {
        "colab": {
          "base_uri": "https://localhost:8080/"
        },
        "id": "VnlNaaYOoYiM",
        "outputId": "86105781-28c0-4465-9a7b-dabf51a4dfe0"
      },
      "execution_count": 15,
      "outputs": [
        {
          "output_type": "stream",
          "name": "stdout",
          "text": [
            "Enter comma-separated passwords: ABd1234@1,aF1#,2w3E*,2We3345\n",
            "ABd1234@1\n"
          ]
        }
      ]
    },
    {
      "cell_type": "code",
      "source": [],
      "metadata": {
        "id": "KtzQnJ7xqLxs"
      },
      "execution_count": null,
      "outputs": []
    }
  ]
}