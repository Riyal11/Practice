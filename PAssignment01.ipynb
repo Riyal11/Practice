{
  "nbformat": 4,
  "nbformat_minor": 0,
  "metadata": {
    "colab": {
      "provenance": []
    },
    "kernelspec": {
      "name": "python3",
      "display_name": "Python 3"
    },
    "language_info": {
      "name": "python"
    }
  },
  "cells": [
    {
      "cell_type": "markdown",
      "source": [
        "1.\tWrite a Python program to print \"Hello Python\"?"
      ],
      "metadata": {
        "id": "WyXm18HabmWH"
      }
    },
    {
      "cell_type": "code",
      "execution_count": 1,
      "metadata": {
        "colab": {
          "base_uri": "https://localhost:8080/"
        },
        "id": "HR-iI8xTa-i2",
        "outputId": "ad80d975-40b3-4716-c4ff-ee04381e20d6"
      },
      "outputs": [
        {
          "output_type": "stream",
          "name": "stdout",
          "text": [
            "Hello Python\n"
          ]
        }
      ],
      "source": [
        "print(\"Hello Python\")"
      ]
    },
    {
      "cell_type": "markdown",
      "source": [
        "2. Write a program to do arithmetical operations addition and division?"
      ],
      "metadata": {
        "id": "Nj5ggDtZbz0D"
      }
    },
    {
      "cell_type": "code",
      "source": [
        "a = int(input(\"Enter first number : \"))\n",
        "b = int(input(\"Enter second number : \"))\n",
        "# arithmetical operation\n",
        "add = a + b\n",
        "division = a / b\n",
        "\n",
        "print(f\"Addition of {a} and {b} is : {add}\")\n",
        "print(f\"Division {a}/{b} is : {division}\")\n"
      ],
      "metadata": {
        "colab": {
          "base_uri": "https://localhost:8080/"
        },
        "id": "2ftWiLzrbraE",
        "outputId": "9601c7b8-f927-4b87-f541-096e4f93e738"
      },
      "execution_count": 3,
      "outputs": [
        {
          "output_type": "stream",
          "name": "stdout",
          "text": [
            "Enter first number : 12\n",
            "Enter second number : 4\n",
            "Addition of 12 and 4 is : 16\n",
            "Division 12/4 is : 3.0\n"
          ]
        }
      ]
    },
    {
      "cell_type": "markdown",
      "source": [
        "3.\tWrite a Python program to find the area of a triangle?"
      ],
      "metadata": {
        "id": "DBsVSUS7e0dQ"
      }
    },
    {
      "cell_type": "code",
      "source": [
        "# Area of triangle\n",
        "height = float(input(\"Enter height of triangle :\"))\n",
        "base = float(input(\"enter base of triangle : \"))\n",
        "\n",
        "area = (1/2) * base * height\n",
        "print(f\"Area of triangle is : {area} unit square \")"
      ],
      "metadata": {
        "colab": {
          "base_uri": "https://localhost:8080/"
        },
        "id": "4jGYG5JCdBjE",
        "outputId": "fcf02213-17f2-4070-bfe6-f3a534bb3041"
      },
      "execution_count": 7,
      "outputs": [
        {
          "output_type": "stream",
          "name": "stdout",
          "text": [
            "Enter height of triangle :4\n",
            "enter base of triangle : 6\n",
            "Area of triangle is : 12.0 unit square \n"
          ]
        }
      ]
    },
    {
      "cell_type": "markdown",
      "source": [
        "4.\tWrite a Python program to swap two variables?"
      ],
      "metadata": {
        "id": "GwKbsUGVezAt"
      }
    },
    {
      "cell_type": "code",
      "source": [
        "# Python program to swap two variables\n",
        "\n",
        "# To take inputs from the user\n",
        "x = input('Enter value of x: ')\n",
        "y = input('Enter value of y: ')\n",
        "\n",
        "# create a temporary variable and swap the values\n",
        "temp = x\n",
        "x = y\n",
        "y = temp\n",
        "\n",
        "print('The value of x after swapping: {}'.format(x))\n",
        "print('The value of y after swapping: {}'.format(y))\n"
      ],
      "metadata": {
        "colab": {
          "base_uri": "https://localhost:8080/"
        },
        "id": "lu4ohFnfeD9j",
        "outputId": "49331c0d-e623-4ea2-fbbc-669b78796393"
      },
      "execution_count": 8,
      "outputs": [
        {
          "output_type": "stream",
          "name": "stdout",
          "text": [
            "Enter value of x: 4\n",
            "Enter value of y: 5\n",
            "The value of x after swapping: 5\n",
            "The value of y after swapping: 4\n"
          ]
        }
      ]
    },
    {
      "cell_type": "markdown",
      "source": [
        "5.\tWrite a Python program to generate a random number?"
      ],
      "metadata": {
        "id": "g3OOp5BGgnS2"
      }
    },
    {
      "cell_type": "code",
      "source": [
        "import random \n",
        "\n",
        "n = random.randint(0,9) #any random integer from 0 to 9\n",
        "print(n)"
      ],
      "metadata": {
        "colab": {
          "base_uri": "https://localhost:8080/"
        },
        "id": "wUmOhqUGfUbr",
        "outputId": "e3df77dd-ba23-4bb2-803a-7b19412ca31b"
      },
      "execution_count": 10,
      "outputs": [
        {
          "output_type": "stream",
          "name": "stdout",
          "text": [
            "7\n"
          ]
        }
      ]
    },
    {
      "cell_type": "code",
      "source": [],
      "metadata": {
        "id": "HRx9m_q9hTYz"
      },
      "execution_count": null,
      "outputs": []
    }
  ]
}