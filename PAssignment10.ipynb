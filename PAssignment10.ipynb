{
  "nbformat": 4,
  "nbformat_minor": 0,
  "metadata": {
    "colab": {
      "provenance": []
    },
    "kernelspec": {
      "name": "python3",
      "display_name": "Python 3"
    },
    "language_info": {
      "name": "python"
    }
  },
  "cells": [
    {
      "cell_type": "markdown",
      "source": [
        "\n",
        "1.\tWrite a Python program to find sum of elements in list?\n",
        "2.\tWrite a Python program to  Multiply all numbers in the list?\n",
        "3.\tWrite a Python program to find smallest number in a list?\n",
        "4.\tWrite a Python program to find largest number in a list?\n",
        "5.\tWrite a Python program to find second largest number in a list?\n",
        "6.\tWrite a Python program to find N largest elements from a list?\n",
        "7.\tWrite a Python program to print even numbers in a list?\n",
        "8.\tWrite a Python program to print odd numbers in a List?\n",
        "9.\tWrite a Python program to Remove empty List from List?\n",
        "10.\tWrite a Python program to Cloning or Copying a list?\n",
        "11.\tWrite a Python program to Count occurrences of an element in a list?\n",
        "\n"
      ],
      "metadata": {
        "id": "8heqBnhNfZDv"
      }
    },
    {
      "cell_type": "code",
      "execution_count": 6,
      "metadata": {
        "colab": {
          "base_uri": "https://localhost:8080/"
        },
        "id": "35GNdv8UfTM5",
        "outputId": "f5c975d2-9c73-47f2-e300-2ed96e059e45"
      },
      "outputs": [
        {
          "output_type": "stream",
          "name": "stdout",
          "text": [
            "Enter number of elements : 5\n",
            "1\n",
            "2\n",
            "3\n",
            "4\n",
            "5\n",
            "The List Is [1, 2, 3, 4, 5]\n",
            "The total sum of elements in list is 15 \n"
          ]
        }
      ],
      "source": [
        "list1 = []\n",
        "  \n",
        "# number of elements as input\n",
        "n = int(input(\"Enter number of elements : \"))\n",
        "  \n",
        "# iterating till the range\n",
        "for i in range(0, n):\n",
        "    x = int(input())\n",
        "    # adding the element\n",
        "    \n",
        "    list1.append(x)  \n",
        "  \n",
        "print(f\"The List Is {list1}\")\n",
        "\n",
        "s = sum(list1)\n",
        "print(f\"The total sum of elements in list is {s} \")\n"
      ]
    },
    {
      "cell_type": "code",
      "source": [
        "#\n",
        "def multiply(mylist):\n",
        "  result = 1\n",
        "  for i in mylist:\n",
        "    result = result * i\n",
        "  return result\n",
        "\n",
        "list2 = [1,2,3,4,5,6]\n",
        "print(f\"The result of multiplication of all numbers in list{list2} is \", multiply(list2))"
      ],
      "metadata": {
        "colab": {
          "base_uri": "https://localhost:8080/"
        },
        "id": "kHHZ2WZUkNqa",
        "outputId": "204c10fb-f4fb-44b3-ab11-748328cdd0a6"
      },
      "execution_count": 11,
      "outputs": [
        {
          "output_type": "stream",
          "name": "stdout",
          "text": [
            "The result of multiplication of all numbers in list[1, 2, 3, 4, 5, 6] is  720\n"
          ]
        }
      ]
    },
    {
      "cell_type": "code",
      "source": [
        "list3 = [23,67,4,23,112,3,89,5,2.0]\n",
        "list3.sort()\n",
        "print(\"Smallest element is : \", list3[0])"
      ],
      "metadata": {
        "colab": {
          "base_uri": "https://localhost:8080/"
        },
        "id": "ZVdn1cyPnQwZ",
        "outputId": "30586209-9fd6-4d5f-c82b-54383d55a663"
      },
      "execution_count": 12,
      "outputs": [
        {
          "output_type": "stream",
          "name": "stdout",
          "text": [
            "Smallest element is :  2.0\n"
          ]
        }
      ]
    },
    {
      "cell_type": "code",
      "source": [
        "def largest(l):\n",
        "  l.sort(reverse = True)\n",
        "  print(\"Largest element is: \",l[0])\n",
        "\n",
        "L1 = [1,2,3,44,5,56,767,90]\n",
        "largest(L1)"
      ],
      "metadata": {
        "colab": {
          "base_uri": "https://localhost:8080/"
        },
        "id": "--ZkQ7MRpH7s",
        "outputId": "fd223c33-6ad5-4c5a-cf06-7f488ef90f4e"
      },
      "execution_count": 15,
      "outputs": [
        {
          "output_type": "stream",
          "name": "stdout",
          "text": [
            "Largest element is:  767\n"
          ]
        }
      ]
    },
    {
      "cell_type": "code",
      "source": [
        "#second Largest\n",
        "L2 = [1,2,3,45,7657,68,678,78,234]\n",
        "L2.sort(reverse = True)\n",
        "print(\"Second Largest Number is: \",L2[1])"
      ],
      "metadata": {
        "colab": {
          "base_uri": "https://localhost:8080/"
        },
        "id": "YZo47YBVqdJV",
        "outputId": "40331dcc-7f6c-425b-8378-b4b74de0f954"
      },
      "execution_count": 17,
      "outputs": [
        {
          "output_type": "stream",
          "name": "stdout",
          "text": [
            "Second Largest Number is:  678\n"
          ]
        }
      ]
    },
    {
      "cell_type": "code",
      "source": [
        "#function\n",
        "def Nlargest(li,n):\n",
        "  li.sort(reverse = True)\n",
        "  print(f\"{n}th Largest element of list is :\", li[n-1])\n",
        "\n",
        "#\n",
        "l3 = [23,45,56,76,12,534,12]\n",
        "n = 3 #3rd largest\n",
        "Nlargest(l3,3)"
      ],
      "metadata": {
        "colab": {
          "base_uri": "https://localhost:8080/"
        },
        "id": "-JR2fFF3rvuf",
        "outputId": "f93a6626-6588-4604-8326-26de40840780"
      },
      "execution_count": 18,
      "outputs": [
        {
          "output_type": "stream",
          "name": "stdout",
          "text": [
            "3th Largest element of list is : 56\n"
          ]
        }
      ]
    },
    {
      "cell_type": "code",
      "source": [
        "l4 = [1,23,4,6,45,7,334,234,6,778,7,2344,578,32]\n",
        "#even number in list\n",
        "#list comprehension\n",
        "even_nos = [num for num in l4 if num % 2 == 0]\n",
        "print(\"Even numbers in the list: \",even_nos )"
      ],
      "metadata": {
        "colab": {
          "base_uri": "https://localhost:8080/"
        },
        "id": "Y9daCI8rthAd",
        "outputId": "924a4974-0aec-40e3-db41-13778ac96f5a"
      },
      "execution_count": 19,
      "outputs": [
        {
          "output_type": "stream",
          "name": "stdout",
          "text": [
            "Even numbers in th list:  [4, 6, 334, 234, 6, 778, 2344, 578, 32]\n"
          ]
        }
      ]
    },
    {
      "cell_type": "code",
      "source": [
        "#for odd numbers\n",
        "odd_nos = [num for num in l4 if num % 2 != 0 ]\n",
        "print(\"Odd numbers in the list: \",odd_nos)"
      ],
      "metadata": {
        "colab": {
          "base_uri": "https://localhost:8080/"
        },
        "id": "F-xbidstuiR0",
        "outputId": "a5580cf6-3778-4105-f064-88dba4325ce6"
      },
      "execution_count": 21,
      "outputs": [
        {
          "output_type": "stream",
          "name": "stdout",
          "text": [
            "Odd numbers in the list:  [1, 23, 45, 7, 7]\n"
          ]
        }
      ]
    },
    {
      "cell_type": "code",
      "source": [
        "L2 = [5,6,[],7,34,232,[],34,[],1]\n",
        "print(\"The original list is : \" + str(L2))\n",
        "#\n",
        "res = [ele for ele in L2 if ele != []]\n",
        "\n",
        "print(\"List after empty list removal: \"+ str(res))"
      ],
      "metadata": {
        "colab": {
          "base_uri": "https://localhost:8080/"
        },
        "id": "DGJ-y3KxvGFR",
        "outputId": "26a78068-1198-40ba-c4ff-21e3882e2ef8"
      },
      "execution_count": 22,
      "outputs": [
        {
          "output_type": "stream",
          "name": "stdout",
          "text": [
            "The original list is : [5, 6, [], 7, 34, 232, [], 34, [], 1]\n",
            "List after empty list removal: [5, 6, 7, 34, 232, 34, 1]\n"
          ]
        }
      ]
    },
    {
      "cell_type": "code",
      "source": [
        "num = [1,2,3,4,5,5,6,6,7,7,8]\n",
        "n2 = [1,1,1,1,1,1,1,1]\n",
        "print(num)\n",
        "print(n2)\n",
        "\n",
        "n2 = num.copy()\n",
        "print(\"list after copying elements\", n2)"
      ],
      "metadata": {
        "colab": {
          "base_uri": "https://localhost:8080/"
        },
        "id": "UsgYEbG6w4cV",
        "outputId": "7e31cbb7-6f02-4434-9d23-4e945e7bc478"
      },
      "execution_count": 23,
      "outputs": [
        {
          "output_type": "stream",
          "name": "stdout",
          "text": [
            "[1, 2, 3, 4, 5, 5, 6, 6, 7, 7, 8]\n",
            "[1, 1, 1, 1, 1, 1, 1, 1]\n",
            "list after copying elements [1, 2, 3, 4, 5, 5, 6, 6, 7, 7, 8]\n"
          ]
        }
      ]
    },
    {
      "cell_type": "code",
      "source": [
        "#count \n",
        "l = [1,1,1,1,22,2,2,2,2,3,4,4345,345]\n",
        "print(\"number of occurences of 2 in list is: \", l.count(2))"
      ],
      "metadata": {
        "colab": {
          "base_uri": "https://localhost:8080/"
        },
        "id": "_QtfaguPxmF5",
        "outputId": "bea56cc5-472c-4933-cb11-951d82f95645"
      },
      "execution_count": 24,
      "outputs": [
        {
          "output_type": "stream",
          "name": "stdout",
          "text": [
            "number of occurences of 2 in list is:  4\n"
          ]
        }
      ]
    },
    {
      "cell_type": "code",
      "source": [],
      "metadata": {
        "id": "ZbKDKIxMyATp"
      },
      "execution_count": null,
      "outputs": []
    }
  ]
}