{
  "nbformat": 4,
  "nbformat_minor": 0,
  "metadata": {
    "colab": {
      "provenance": []
    },
    "kernelspec": {
      "name": "python3",
      "display_name": "Python 3"
    },
    "language_info": {
      "name": "python"
    }
  },
  "cells": [
    {
      "cell_type": "markdown",
      "source": [
        "Question1. Create a function that takes three arguments a, b, c and returns the sum of the numbers that are evenly divided by c from the range a, b inclusive.\n",
        "Examples\n",
        "evenly_divisible(1, 10, 20) ➞ 0\n",
        "# No number between 1 and 10 can be evenly divided by 20.\n",
        "\n",
        "evenly_divisible(1, 10, 2) ➞ 30\n",
        "# 2 + 4 + 6 + 8 + 10 = 30\n",
        "\n",
        "evenly_divisible(1, 10, 3) ➞ 18\n",
        "# 3 + 6 + 9 = 18\n",
        "\n",
        "\n",
        "Question2. Create a function that returns True if a given inequality expression is correct and False otherwise.\n",
        "Examples\n",
        "correct_signs(\"3 < 7 < 11\") ➞ True\n",
        "\n",
        "correct_signs(\"13 > 44 > 33 > 1\") ➞ False\n",
        "\n",
        "correct_signs(\"1 < 2 < 6 < 9 > 3\") ➞ True\n",
        "\n",
        "Question3. Create a function that replaces all the vowels in a string with a specified character.\n",
        "Examples\n",
        "replace_vowels(\"the aardvark\", \"#\") ➞ \"th# ##rdv#rk\"\n",
        "\n",
        "replace_vowels(\"minnie mouse\", \"?\") ➞ \"m?nn?? m??s?\"\n",
        "\n",
        "replace_vowels(\"shakespeare\", \"*\") ➞ \"sh*k*sp**r*\"\n",
        "\n",
        "Question4. Write a function that calculates the factorial of a number recursively.\n",
        "Examples\n",
        "factorial(5) ➞ 120\n",
        "\n",
        "factorial(3) ➞ 6\n",
        "\n",
        "factorial(1) ➞ 1\n",
        "\n",
        "factorial(0) ➞ 1\n",
        "\n",
        "Question 5\n",
        "Hamming distance is the number of characters that differ between two strings.\n",
        "To illustrate:\n",
        "String1: \"abcbba\"\n",
        "String2: \"abcbda\"\n",
        "\n",
        "Hamming Distance: 1 - \"b\" vs. \"d\" is the only difference.\n",
        "Create a function that computes the hamming distance between two strings.\n",
        "Examples\n",
        "hamming_distance(\"abcde\", \"bcdef\") ➞ 5\n",
        "\n",
        "hamming_distance(\"abcde\", \"abcde\") ➞ 0\n",
        "\n",
        "hamming_distance(\"strong\", \"strung\") ➞ 1\n",
        "\n",
        "\n"
      ],
      "metadata": {
        "id": "WgYRxf-JoZ2m"
      }
    },
    {
      "cell_type": "code",
      "execution_count": 3,
      "metadata": {
        "id": "9QXSv5twoZSD",
        "colab": {
          "base_uri": "https://localhost:8080/"
        },
        "outputId": "fb72d93c-df98-4f95-bbc5-3cd15182d8c1"
      },
      "outputs": [
        {
          "output_type": "stream",
          "name": "stdout",
          "text": [
            "0\n",
            "30\n",
            "18\n"
          ]
        }
      ],
      "source": [
        "#1\n",
        "def evenly_divisible(a, b, c):\n",
        "    sum = 0\n",
        "    for i in range(a, b+1):\n",
        "        if i % c == 0:\n",
        "            sum += i\n",
        "    return sum\n",
        "\n",
        "print(evenly_divisible(1, 10, 20))\n",
        "\n",
        "\n",
        "print(evenly_divisible(1, 10, 2))\n",
        "\n",
        "\n",
        "print(evenly_divisible(1, 10, 3))\n",
        "\n"
      ]
    },
    {
      "cell_type": "code",
      "source": [
        "#2\n",
        "#eval() approach\n",
        "\n",
        "def correct_signs(expr):\n",
        "  return eval(expr)\n",
        "\n",
        "print(correct_signs(\"3<7<11\"))\n",
        "print(correct_signs(\"13>44>33>1\"))\n",
        "print(correct_signs(\"1<2<6<9>3\"))\n"
      ],
      "metadata": {
        "colab": {
          "base_uri": "https://localhost:8080/"
        },
        "id": "3gVWaocyDK_M",
        "outputId": "3a4741f7-bd2e-48ce-ae29-7e37a4152813"
      },
      "execution_count": 2,
      "outputs": [
        {
          "output_type": "stream",
          "name": "stdout",
          "text": [
            "True\n",
            "False\n",
            "True\n"
          ]
        }
      ]
    },
    {
      "cell_type": "code",
      "source": [
        "#3\n",
        "def replace_vowels(txt, char):\n",
        "    vowels = \"aeiouAEIOU\"\n",
        "    return ''.join(char if letter in vowels else letter for letter in txt)\n",
        "\n",
        "print(replace_vowels(\"the aardvark\", \"#\"))\n",
        "\n",
        "print(replace_vowels(\"minnie mouse\", \"?\"))\n",
        "\n",
        "print(replace_vowels(\"shakespeare\", \"*\"))"
      ],
      "metadata": {
        "colab": {
          "base_uri": "https://localhost:8080/"
        },
        "id": "ZcMAhWBIDK7e",
        "outputId": "c2fff434-23c5-4a9f-d8ff-5569bd97f6c4"
      },
      "execution_count": 4,
      "outputs": [
        {
          "output_type": "stream",
          "name": "stdout",
          "text": [
            "th# ##rdv#rk\n",
            "m?nn?? m??s?\n",
            "sh*k*sp**r*\n"
          ]
        }
      ]
    },
    {
      "cell_type": "code",
      "source": [
        "#4\n",
        "def factorial(n):\n",
        "    if n == 0:\n",
        "        return 1\n",
        "    else:\n",
        "        return n * factorial(n-1)\n",
        "\n",
        "print(factorial(3))\n",
        "print(factorial(1))\n",
        "print(factorial(0))"
      ],
      "metadata": {
        "colab": {
          "base_uri": "https://localhost:8080/"
        },
        "id": "M09ExyJFDK5J",
        "outputId": "2d54c51b-023b-42cf-9cf0-4bbc480a2759"
      },
      "execution_count": 5,
      "outputs": [
        {
          "output_type": "stream",
          "name": "stdout",
          "text": [
            "6\n",
            "1\n",
            "1\n"
          ]
        }
      ]
    },
    {
      "cell_type": "code",
      "source": [
        "#5\n",
        "def hamming_distance(str1, str2):\n",
        "    if len(str1) != len(str2):\n",
        "        return None\n",
        "    distance = 0\n",
        "    for i in range(len(str1)):\n",
        "        if str1[i] != str2[i]:\n",
        "            distance += 1\n",
        "    return distance\n",
        "\n",
        "print(hamming_distance(\"abcde\",\"bcdef\"))\n",
        "\n",
        "print(hamming_distance(\"abcde\",\"abcde\"))\n",
        "print(hamming_distance(\"strong\",\"strung\"))"
      ],
      "metadata": {
        "colab": {
          "base_uri": "https://localhost:8080/"
        },
        "id": "k--A-X5bDK2i",
        "outputId": "0e603b00-4f5d-4ab6-b63b-a231e7ebbc5f"
      },
      "execution_count": 7,
      "outputs": [
        {
          "output_type": "stream",
          "name": "stdout",
          "text": [
            "5\n",
            "0\n",
            "1\n"
          ]
        }
      ]
    },
    {
      "cell_type": "code",
      "source": [],
      "metadata": {
        "id": "ImCWPhHADKzS"
      },
      "execution_count": null,
      "outputs": []
    },
    {
      "cell_type": "code",
      "source": [],
      "metadata": {
        "id": "FWbeaaQKDKpG"
      },
      "execution_count": null,
      "outputs": []
    }
  ]
}