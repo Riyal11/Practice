{
  "nbformat": 4,
  "nbformat_minor": 0,
  "metadata": {
    "colab": {
      "provenance": []
    },
    "kernelspec": {
      "name": "python3",
      "display_name": "Python 3"
    },
    "language_info": {
      "name": "python"
    }
  },
  "cells": [
    {
      "cell_type": "markdown",
      "source": [
        "1.\tWrite a Python Program to Find LCM?"
      ],
      "metadata": {
        "id": "tMcZZuBgHzsA"
      }
    },
    {
      "cell_type": "code",
      "execution_count": 4,
      "metadata": {
        "colab": {
          "base_uri": "https://localhost:8080/"
        },
        "id": "W8dBKsCLHhgJ",
        "outputId": "ce4430ab-b1d0-4868-b7a0-b4785252ca6e"
      },
      "outputs": [
        {
          "output_type": "stream",
          "name": "stdout",
          "text": [
            "Enter the first number: 4\n",
            "Enter the second number:  5\n",
            "The LCM OF 4 and 5 is 20\n"
          ]
        }
      ],
      "source": [
        "a = int(input(\"Enter the first number: \"))\n",
        "b = int(input(\"Enter the second number:  \"))\n",
        "\n",
        "if a > b:\n",
        "  greater = a\n",
        "else:\n",
        "  greater = b\n",
        "while(True):\n",
        "  if((greater % a== 0) and (greater % b ==0 )):\n",
        "    lcm = greater \n",
        "    break\n",
        "  greater += 1\n",
        "print(f\"The LCM OF {a} and {b} is {lcm}\")"
      ]
    },
    {
      "cell_type": "markdown",
      "source": [
        "1.\tWrite a Python Program to Find HCF?"
      ],
      "metadata": {
        "id": "-DcE_2xUH2cJ"
      }
    },
    {
      "cell_type": "code",
      "source": [
        "x = int(input(\" Enter the first number: \"))\n",
        "y = int(input(\" Enter the second number: \"))\n",
        "\n",
        "if x>y:\n",
        "  smaller = y\n",
        "else:\n",
        "  smaller = x\n",
        "for i in range(1, smaller +1):\n",
        "  if((x% i == 0) and (y%i == 0)):\n",
        "    hcf = i\n",
        "\n",
        "print(f\"The HCF of {x} and {y} is {hcf}\")"
      ],
      "metadata": {
        "colab": {
          "base_uri": "https://localhost:8080/"
        },
        "id": "IuOBlwsxH8FH",
        "outputId": "e077423e-f513-4cf1-a1b6-4bc8f112720a"
      },
      "execution_count": 6,
      "outputs": [
        {
          "output_type": "stream",
          "name": "stdout",
          "text": [
            " Enter the first number: 6\n",
            " Enter the second number: 9\n",
            "The HCF of 6 and 9 is 3\n"
          ]
        }
      ]
    },
    {
      "cell_type": "markdown",
      "source": [
        "3.\tWrite a Python Program to Convert Decimal to Binary, Octal and Hexadecimal?"
      ],
      "metadata": {
        "id": "yB4C0nl1H8eS"
      }
    },
    {
      "cell_type": "code",
      "source": [
        "d = int(input(\"Enter the number you want to convert: \"))\n",
        "binary = bin(d)\n",
        "octal = oct(d)\n",
        "hexadecimal = hex(d)\n",
        "print(f\"\"\"The given decimal number is {d} \n",
        "      in binary it is {binary}\n",
        "      in octal it is {octal}, \n",
        "      in hexadecimal it is {hexadecimal} \"\"\")\n"
      ],
      "metadata": {
        "colab": {
          "base_uri": "https://localhost:8080/"
        },
        "id": "jVykb98AH_jC",
        "outputId": "afc58479-187d-4cc7-8288-aa98ee50fd28"
      },
      "execution_count": 9,
      "outputs": [
        {
          "output_type": "stream",
          "name": "stdout",
          "text": [
            "Enter the number you want to convert: 12\n",
            "The given decimal number is 12 \n",
            "      in binary it is 0b1100\n",
            "      in octal it is 0o14, \n",
            "      in hexadecimal it is 0xc \n"
          ]
        }
      ]
    },
    {
      "cell_type": "markdown",
      "source": [
        "4.\tWrite a Python Program To Find ASCII value of a character?"
      ],
      "metadata": {
        "id": "aZ9DuRzrH_1-"
      }
    },
    {
      "cell_type": "code",
      "source": [
        "c = input(\" Enter the character : \")\n",
        "print(f\" The ASCII value of {c} is {ord(c)}\")"
      ],
      "metadata": {
        "colab": {
          "base_uri": "https://localhost:8080/"
        },
        "id": "PzSxrI8PIDAb",
        "outputId": "ae36d10d-668c-4df4-89ff-61b2e0c72c2e"
      },
      "execution_count": 10,
      "outputs": [
        {
          "output_type": "stream",
          "name": "stdout",
          "text": [
            " Enter the character : p\n",
            " The ASCII value of p is 112\n"
          ]
        }
      ]
    },
    {
      "cell_type": "markdown",
      "source": [
        "5.\tWrite a Python Program to Make a Simple Calculator with 4 basic mathematical operations?"
      ],
      "metadata": {
        "id": "Du-aC5CSIDPV"
      }
    },
    {
      "cell_type": "code",
      "source": [
        "print(\"Select Operation.\")\n",
        "print(\"1.Add\")\n",
        "print(\"2.Subtract\")\n",
        "print(\"3.Multiply\")\n",
        "print(\"4.Divide\")\n",
        "\n",
        "while(True):\n",
        "  choice = input(\"Enter choice (1/2/3/4): \")\n",
        "  if choice in ('1', '2' , '3' , '4'):\n",
        "    num1 = float(input(\"Enter first number :\"))\n",
        "    num2 = float(input(\"Enter second number: \"))\n",
        "\n",
        "    if choice == '1':\n",
        "      print(f\"{num1} + {num2} = {num1 + num2} \")\n",
        "    elif choice == '2':\n",
        "      print(f\"{num1} - {num2} = {num1 - num2}\")\n",
        "    elif choice == '3':\n",
        "      print(f\"{num1} * {num2} = {num1 * num2}\")\n",
        "    elif choice == '4':\n",
        "      print(f\"{num1} / {num2} = {num1 / num2}\")\n",
        "\n",
        "    next_calculation = input(\"Do you want next calculation (Yes/No):  \")\n",
        "    if next_calculation == \"No\":\n",
        "       break\n",
        "  else:\n",
        "    print(\"Invalid Input\")\n",
        "\n",
        "  "
      ],
      "metadata": {
        "colab": {
          "base_uri": "https://localhost:8080/"
        },
        "id": "iY97UVYuIIdR",
        "outputId": "a09bc5c1-37c3-4df8-8946-b484aad31045"
      },
      "execution_count": 17,
      "outputs": [
        {
          "name": "stdout",
          "output_type": "stream",
          "text": [
            "Select Operation.\n",
            "1.Add\n",
            "2.Subtract\n",
            "3.Multiply\n",
            "4.Divide\n",
            "Enter choice (1/2/3/4): 1\n",
            "Enter first number :2\n",
            "Enter second number: 3\n",
            "2.0 + 3.0 = 5.0 \n",
            "Do you want next calculation (Yes/No):  Yes\n",
            "Enter choice (1/2/3/4): 3\n",
            "Enter first number :2\n",
            "Enter second number: 3\n",
            "2.0 * 3.0 = 6.0\n",
            "Do you want next calculation (Yes/No):  Yes\n",
            "Enter choice (1/2/3/4): 2\n",
            "Enter first number :6\n",
            "Enter second number: 9\n",
            "6.0 - 9.0 = -3.0\n",
            "Do you want next calculation (Yes/No):  Yes\n",
            "Enter choice (1/2/3/4): 4\n",
            "Enter first number :3\n",
            "Enter second number: 1.5\n",
            "3.0 / 1.5 = 2.0\n",
            "Do you want next calculation (Yes/No):  No\n"
          ]
        }
      ]
    },
    {
      "cell_type": "code",
      "source": [
        "#printing character in range 48 to 122\n",
        "for i in range (48,122+1):\n",
        "  print(f\"{chr(i)}\")\n",
        "  "
      ],
      "metadata": {
        "colab": {
          "base_uri": "https://localhost:8080/"
        },
        "id": "BrdP7xe7Zoo6",
        "outputId": "e533a93d-6474-4c39-9e2c-ea05a900785e"
      },
      "execution_count": 14,
      "outputs": [
        {
          "output_type": "stream",
          "name": "stdout",
          "text": [
            "0\n",
            "1\n",
            "2\n",
            "3\n",
            "4\n",
            "5\n",
            "6\n",
            "7\n",
            "8\n",
            "9\n",
            ":\n",
            ";\n",
            "<\n",
            "=\n",
            ">\n",
            "?\n",
            "@\n",
            "A\n",
            "B\n",
            "C\n",
            "D\n",
            "E\n",
            "F\n",
            "G\n",
            "H\n",
            "I\n",
            "J\n",
            "K\n",
            "L\n",
            "M\n",
            "N\n",
            "O\n",
            "P\n",
            "Q\n",
            "R\n",
            "S\n",
            "T\n",
            "U\n",
            "V\n",
            "W\n",
            "X\n",
            "Y\n",
            "Z\n",
            "[\n",
            "\\\n",
            "]\n",
            "^\n",
            "_\n",
            "`\n",
            "a\n",
            "b\n",
            "c\n",
            "d\n",
            "e\n",
            "f\n",
            "g\n",
            "h\n",
            "i\n",
            "j\n",
            "k\n",
            "l\n",
            "m\n",
            "n\n",
            "o\n",
            "p\n",
            "q\n",
            "r\n",
            "s\n",
            "t\n",
            "u\n",
            "v\n",
            "w\n",
            "x\n",
            "y\n",
            "z\n"
          ]
        }
      ]
    },
    {
      "cell_type": "code",
      "source": [],
      "metadata": {
        "id": "qIR3yWY6aCKk"
      },
      "execution_count": null,
      "outputs": []
    }
  ]
}