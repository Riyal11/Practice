{
  "nbformat": 4,
  "nbformat_minor": 0,
  "metadata": {
    "colab": {
      "provenance": []
    },
    "kernelspec": {
      "name": "python3",
      "display_name": "Python 3"
    },
    "language_info": {
      "name": "python"
    }
  },
  "cells": [
    {
      "cell_type": "markdown",
      "source": [
        "1.\tWrite a Python Program to Display Fibonacci Sequence Using Recursion?"
      ],
      "metadata": {
        "id": "IhhC2RKXJ3x4"
      }
    },
    {
      "cell_type": "code",
      "execution_count": null,
      "metadata": {
        "id": "K1hGGxP6Jvtl"
      },
      "outputs": [],
      "source": [
        "# Python program to display the Fibonacci sequence\n",
        "\n",
        "def recur_fibo(n):\n",
        "   if n <= 1:\n",
        "       return n\n",
        "   else:\n",
        "       return(recur_fibo(n-1) + recur_fibo(n-2))\n",
        "\n",
        "nterms = int(input(\"Enter the number of terms of fibonacci sequence :- \"))\n",
        "\n",
        "# check if the number of terms is valid\n",
        "if nterms <= 0:\n",
        "   print(\"Plese enter a positive integer\")\n",
        "else:\n",
        "   print(\"Fibonacci sequence:\")\n",
        "   for i in range(nterms):\n",
        "       print(recur_fibo(i))\n"
      ]
    },
    {
      "cell_type": "markdown",
      "source": [
        "2.\tWrite a Python Program to Find Factorial of Number Using Recursion?\n",
        "\n"
      ],
      "metadata": {
        "id": "yfULBay7J27f"
      }
    },
    {
      "cell_type": "code",
      "source": [
        "# Python program for Factorial using recursion\n",
        "def recur_Fact(n):\n",
        "  if (n == 0 or n == 1) :\n",
        "    return 1\n",
        "  else:\n",
        "    return (n* recur_Fact(n-1))\n",
        "\n",
        "k = int(input(\"Enter the number for factorial :- \" )) \n",
        "# check if the number is valid or not\n",
        "if k <=0:\n",
        "  print(\"Please enter positive integer.\")\n",
        "else:\n",
        "  print(f\"Factorial of {k} is \")\n",
        "  print(recur_Fact(k))"
      ],
      "metadata": {
        "colab": {
          "base_uri": "https://localhost:8080/"
        },
        "id": "ZoT_9mlBKFAv",
        "outputId": "1091133f-e9ce-4165-f131-39174ac59daf"
      },
      "execution_count": null,
      "outputs": [
        {
          "output_type": "stream",
          "name": "stdout",
          "text": [
            "Enter the number for factorial :- 6\n",
            "Factorial of 6 is \n",
            "720\n"
          ]
        }
      ]
    },
    {
      "cell_type": "markdown",
      "source": [
        "3.\tWrite a Python Program to calculate your Body Mass Index?\n",
        "\n",
        " "
      ],
      "metadata": {
        "id": "ZgCcAmlKKFZw"
      }
    },
    {
      "cell_type": "code",
      "source": [
        "# python program for body mass index\n",
        "# asking for input from the users  \n",
        "h = float(input(\"Enter the height in cm: \"))  \n",
        "w = float(input(\"Enter the weight in kg: \")) \n",
        "\n",
        "# defining a function for BMI  \n",
        "BMI = w / (h/100)**2 \n",
        "\n",
        "# printing the BMI  \n",
        "print(\"Your Body Mass Index is\", BMI)  \n",
        "\n",
        "# using the if-elif-else conditions  \n",
        "if BMI <= 18.5:  \n",
        "    print(\"Oops! You are underweight.\")  \n",
        "elif BMI <= 24.9:  \n",
        "    print(\"Awesome! You are healthy.\")  \n",
        "elif BMI <= 29.9:  \n",
        "    print(\"Eee! You are over weight.\")  \n",
        "else:  \n",
        "    print(\"Seesh! You are obese.\") "
      ],
      "metadata": {
        "colab": {
          "base_uri": "https://localhost:8080/"
        },
        "id": "IoZ3WUadKc_1",
        "outputId": "66fe04b7-d45b-4161-f52e-1e0f45067268"
      },
      "execution_count": null,
      "outputs": [
        {
          "output_type": "stream",
          "name": "stdout",
          "text": [
            "Enter the height in cm: 180\n",
            "Enter the weight in kg: 80\n",
            "Your Body Mass Index is 24.691358024691358\n",
            "Awesome! You are healthy.\n"
          ]
        }
      ]
    },
    {
      "cell_type": "markdown",
      "source": [
        "4.\tWrite a Python Program to calculate the natural logarithm of any number?"
      ],
      "metadata": {
        "id": "4VWJQE17Kcct"
      }
    },
    {
      "cell_type": "code",
      "source": [
        "\n",
        "import math\n",
        "\n",
        "number = int(input(\"Enter the number: \"))\n",
        "\n",
        "ans = math.log(number)\n",
        "\n",
        "print(\"The value is:\",ans)"
      ],
      "metadata": {
        "colab": {
          "base_uri": "https://localhost:8080/"
        },
        "id": "9GIoB3oGKevk",
        "outputId": "addc0ec0-4b68-4bac-f021-f7bc00b0cd4b"
      },
      "execution_count": null,
      "outputs": [
        {
          "output_type": "stream",
          "name": "stdout",
          "text": [
            "Enter the number: 45\n",
            "The value is: 3.8066624897703196\n"
          ]
        }
      ]
    },
    {
      "cell_type": "markdown",
      "source": [
        "5.\tWrite a Python Program for cube sum of first n natural numbers?"
      ],
      "metadata": {
        "id": "jcKRw2-HKfYT"
      }
    },
    {
      "cell_type": "code",
      "source": [
        "#function approach \n",
        "n= int(input(\"Enter the number :-\"))\n",
        "s=0\n",
        "# iterating loop up to given number n\n",
        "for i in range(1,n+1):\n",
        "    # adding cube sum using pow() function\n",
        "    s=s+pow(i,3)\n",
        "print(s)"
      ],
      "metadata": {
        "id": "jt01XVnGKkJr",
        "colab": {
          "base_uri": "https://localhost:8080/"
        },
        "outputId": "c7ea1cc0-62dc-44a1-abf2-a12f93ee54f2"
      },
      "execution_count": 5,
      "outputs": [
        {
          "output_type": "stream",
          "name": "stdout",
          "text": [
            "Enter the number :-3\n",
            "36\n"
          ]
        }
      ]
    },
    {
      "cell_type": "code",
      "source": [
        "#another approach\n",
        "def CubeSum(n) :\n",
        "    return (n*(n+1)//2)**2\n",
        "n=int(input(\"enter N: \"))\n",
        "print(f\"Sum of cubes of first {n} natural numbers: \",CubeSum(n))"
      ],
      "metadata": {
        "colab": {
          "base_uri": "https://localhost:8080/"
        },
        "id": "6t25KYgkUQbl",
        "outputId": "8e56c26d-af67-4bac-93b3-f00af5b2f2df"
      },
      "execution_count": 7,
      "outputs": [
        {
          "output_type": "stream",
          "name": "stdout",
          "text": [
            "enter N: 3\n",
            "Sum of cubes of first 3 natural numbers:  36\n"
          ]
        }
      ]
    }
  ]
}