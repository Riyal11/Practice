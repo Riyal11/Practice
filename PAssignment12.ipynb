{
  "nbformat": 4,
  "nbformat_minor": 0,
  "metadata": {
    "colab": {
      "provenance": []
    },
    "kernelspec": {
      "name": "python3",
      "display_name": "Python 3"
    },
    "language_info": {
      "name": "python"
    }
  },
  "cells": [
    {
      "cell_type": "markdown",
      "source": [
        "1.\tWrite a Python program to Extract Unique values dictionary values?\n",
        "2.\tWrite a Python program to find the sum of all items in a dictionary?\n",
        "3.\tWrite a Python program to Merging two Dictionaries?\n",
        "4.\tWrite a Python program to convert key-values list to flat dictionary?\n",
        "5.\tWrite a Python program to insertion at the beginning in OrderedDict?\n",
        "6.\tWrite a Python program to check order of character in string using OrderedDict()?\n",
        "7.\tWrite a Python program to sort Python Dictionaries by Key or Value?\n"
      ],
      "metadata": {
        "id": "ye142aQmgAzT"
      }
    },
    {
      "cell_type": "code",
      "source": [
        "#Extract unique dictionary values\n",
        "my_dict = {'ineuron':[1,2,3,5],'is': [10,1,23,4] ,'best':[1,23,7,8]}\n",
        "print(\"The original dictionary is : \" + str(my_dict))\n",
        "unique_values = set({ele for val in my_dict.values() for ele in val})\n",
        "print(\"Unique Values are :\")\n",
        "print(unique_values) "
      ],
      "metadata": {
        "id": "Gq_EPmNPgAhb",
        "colab": {
          "base_uri": "https://localhost:8080/"
        },
        "outputId": "ffc49908-9f0c-4033-da57-0f3138e97555"
      },
      "execution_count": 4,
      "outputs": [
        {
          "output_type": "stream",
          "name": "stdout",
          "text": [
            "The original dictionary is : {'ineuron': [1, 2, 3, 5], 'is': [10, 1, 23, 4], 'best': [1, 23, 7, 8]}\n",
            "Unique Values are :\n",
            "{1, 2, 3, 4, 5, 7, 8, 10, 23}\n"
          ]
        }
      ]
    },
    {
      "cell_type": "code",
      "execution_count": 5,
      "metadata": {
        "id": "fpDjmJmjf7Ih",
        "colab": {
          "base_uri": "https://localhost:8080/"
        },
        "outputId": "bd69d7d5-06d6-4a33-8740-725f94813761"
      },
      "outputs": [
        {
          "output_type": "stream",
          "name": "stdout",
          "text": [
            "The sum of all items in the dictionary is: 1000\n"
          ]
        }
      ],
      "source": [
        "my_dict = {'a': 100, 'b': 200, 'c': 300, 'd': 400}\n",
        "\n",
        "# Using sum() function\n",
        "sum_dict = sum(my_dict.values())\n",
        "\n",
        "# Using a loop\n",
        "sum_dict = 0\n",
        "for value in my_dict.values():\n",
        "    sum_dict += value\n",
        "\n",
        "print(\"The sum of all items in the dictionary is:\", sum_dict)\n"
      ]
    },
    {
      "cell_type": "code",
      "source": [
        "dict1 = {'a': 1, 'b': 2}\n",
        "dict2 = {'c': 3, 'd': 4}\n",
        "\n",
        "# Using the update() method\n",
        "dict1.update(dict2)\n",
        "merged_dict = dict1\n",
        "\n",
        "# Using the double asterisk (**) operator\n",
        "merged_dict = {**dict1, **dict2}\n",
        "\n",
        "print(\"Merged dictionary:\", merged_dict)\n"
      ],
      "metadata": {
        "colab": {
          "base_uri": "https://localhost:8080/"
        },
        "id": "4LlIcaepuC9b",
        "outputId": "b6180ccc-60dc-447e-edcd-7b4f4646cd80"
      },
      "execution_count": 6,
      "outputs": [
        {
          "output_type": "stream",
          "name": "stdout",
          "text": [
            "Merged dictionary: {'a': 1, 'b': 2, 'c': 3, 'd': 4}\n"
          ]
        }
      ]
    },
    {
      "cell_type": "code",
      "source": [
        "keys = ['a', 'b', 'c']\n",
        "values = [1, 2, 3]\n",
        "\n",
        "flat_dict = dict(zip(keys, values))\n",
        "\n",
        "print(\"Flat dictionary:\", flat_dict)\n"
      ],
      "metadata": {
        "colab": {
          "base_uri": "https://localhost:8080/"
        },
        "id": "yyeBhG8MuhEh",
        "outputId": "45cbe57c-399b-495d-94d1-3a9f118279cd"
      },
      "execution_count": 7,
      "outputs": [
        {
          "output_type": "stream",
          "name": "stdout",
          "text": [
            "Flat dictionary: {'a': 1, 'b': 2, 'c': 3}\n"
          ]
        }
      ]
    },
    {
      "cell_type": "code",
      "source": [
        "from collections import OrderedDict\n",
        "\n",
        "my_dict = OrderedDict([('a', 1), ('b', 2), ('c', 3)])\n",
        "\n",
        "my_dict.update({'d': 4})\n",
        "my_dict.move_to_end('d', last=False)\n",
        "\n",
        "print(\"OrderedDict with element inserted at beginning:\", my_dict)\n"
      ],
      "metadata": {
        "colab": {
          "base_uri": "https://localhost:8080/"
        },
        "id": "5Bv1YLRKvVcZ",
        "outputId": "4abc915b-e9e7-477f-cff9-80266f8811e3"
      },
      "execution_count": 8,
      "outputs": [
        {
          "output_type": "stream",
          "name": "stdout",
          "text": [
            "OrderedDict with element inserted at beginning: OrderedDict([('d', 4), ('a', 1), ('b', 2), ('c', 3)])\n"
          ]
        }
      ]
    },
    {
      "cell_type": "code",
      "source": [
        "from collections import OrderedDict\n",
        "\n",
        "def check_order(string, pattern):\n",
        "    pattern_dict = OrderedDict.fromkeys(pattern)\n",
        "    j = 0\n",
        "    for char in string:\n",
        "        if char == pattern[j]:\n",
        "            j += 1\n",
        "        if j == len(pattern):\n",
        "            return True\n",
        "    return False\n",
        "\n",
        "string = 'engineering'\n",
        "pattern = 'ern'\n",
        "if check_order(string, pattern):\n",
        "    print(\"The characters in the pattern appear in order in the string.\")\n",
        "else:\n",
        "    print(\"The characters in the pattern do not appear in order in the string.\")\n"
      ],
      "metadata": {
        "colab": {
          "base_uri": "https://localhost:8080/"
        },
        "id": "GtJ5H0mUvgdJ",
        "outputId": "ca1fa906-18e5-4bd9-ffda-c5e19cfaffce"
      },
      "execution_count": 13,
      "outputs": [
        {
          "output_type": "stream",
          "name": "stdout",
          "text": [
            "The characters in the pattern appear in order in the string.\n"
          ]
        }
      ]
    },
    {
      "cell_type": "code",
      "source": [
        "my_dict = {'banana': 3, 'apple': 1, 'pear': 4, 'orange': 2}\n",
        "\n",
        "# To sort by key\n",
        "sorted_dict_by_key = dict(sorted(my_dict.items()))\n",
        "\n",
        "# To sort by value\n",
        "sorted_dict_by_value = dict(sorted(my_dict.items(), key=lambda x: x[1]))\n",
        "\n",
        "print(\"Original dictionary:\", my_dict)\n",
        "print(\"Sorted by key:\", sorted_dict_by_key)\n",
        "print(\"Sorted by value:\", sorted_dict_by_value)\n"
      ],
      "metadata": {
        "colab": {
          "base_uri": "https://localhost:8080/"
        },
        "id": "4-mw3sltvg15",
        "outputId": "77fff67c-6438-4296-bb23-fe1c25f84d63"
      },
      "execution_count": 10,
      "outputs": [
        {
          "output_type": "stream",
          "name": "stdout",
          "text": [
            "Original dictionary: {'banana': 3, 'apple': 1, 'pear': 4, 'orange': 2}\n",
            "Sorted by key: {'apple': 1, 'banana': 3, 'orange': 2, 'pear': 4}\n",
            "Sorted by value: {'apple': 1, 'orange': 2, 'banana': 3, 'pear': 4}\n"
          ]
        }
      ]
    },
    {
      "cell_type": "code",
      "source": [],
      "metadata": {
        "id": "g2TSfVcpvsH9"
      },
      "execution_count": null,
      "outputs": []
    }
  ]
}