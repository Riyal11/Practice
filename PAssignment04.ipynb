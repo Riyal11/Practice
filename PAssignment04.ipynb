{
  "nbformat": 4,
  "nbformat_minor": 0,
  "metadata": {
    "colab": {
      "provenance": []
    },
    "kernelspec": {
      "name": "python3",
      "display_name": "Python 3"
    },
    "language_info": {
      "name": "python"
    }
  },
  "cells": [
    {
      "cell_type": "markdown",
      "source": [
        "1.\tWrite a Python Program to Find the Factorial of a Number?"
      ],
      "metadata": {
        "id": "2cDG6sov-LzU"
      }
    },
    {
      "cell_type": "code",
      "execution_count": 8,
      "metadata": {
        "id": "KGGszc1v-DSu",
        "colab": {
          "base_uri": "https://localhost:8080/"
        },
        "outputId": "5d5e3443-7160-489f-af1c-2a405a83f244"
      },
      "outputs": [
        {
          "output_type": "stream",
          "name": "stdout",
          "text": [
            "Enter the number: 6\n",
            " Factorial of 6 is 720 \n"
          ]
        }
      ],
      "source": [
        "n = int(input(\"Enter the number: \"))\n",
        "F = 1\n",
        "\n",
        "num = n\n",
        "while num >= 1:\n",
        "  F = F * num\n",
        "  num = num - 1\n",
        "\n",
        "print(f\" Factorial of {n} is {F} \")\n"
      ]
    },
    {
      "cell_type": "markdown",
      "source": [
        "2.\tWrite a Python Program to Display the multiplication Table?"
      ],
      "metadata": {
        "id": "1PFXt9QU-PLD"
      }
    },
    {
      "cell_type": "code",
      "source": [
        "# table upto 10\n",
        "a = int(input(\"Enter the number whose multiplication table we want to print: \"))\n",
        "\n",
        "for i in range(0,10):\n",
        "  print(f\" {a} X {i + 1} = {a*(i+1)}\")"
      ],
      "metadata": {
        "id": "0REC-g3d-X_K",
        "colab": {
          "base_uri": "https://localhost:8080/"
        },
        "outputId": "4795fae9-41a6-4ba3-e189-9586376bf741"
      },
      "execution_count": 9,
      "outputs": [
        {
          "output_type": "stream",
          "name": "stdout",
          "text": [
            "Enter the number whose multiplication table we want to print: 13\n",
            " 13 X 1 = 13\n",
            " 13 X 2 = 26\n",
            " 13 X 3 = 39\n",
            " 13 X 4 = 52\n",
            " 13 X 5 = 65\n",
            " 13 X 6 = 78\n",
            " 13 X 7 = 91\n",
            " 13 X 8 = 104\n",
            " 13 X 9 = 117\n",
            " 13 X 10 = 130\n"
          ]
        }
      ]
    },
    {
      "cell_type": "markdown",
      "source": [
        "3.\tWrite a Python Program to Print the Fibonacci sequence?"
      ],
      "metadata": {
        "id": "tPfYKJji-YdU"
      }
    },
    {
      "cell_type": "code",
      "source": [
        "# Program to display the Fibonacci sequence up to n-th term\n",
        "\n",
        "nterms = int(input(\"How many terms? \"))\n",
        "\n",
        "# first two terms\n",
        "n1, n2 = 0, 1\n",
        "count = 0\n",
        "\n",
        "# check if the number of terms is valid\n",
        "if nterms <= 0:\n",
        "   print(\"Please enter a positive integer\")\n",
        "# if there is only one term, return n1\n",
        "elif nterms == 1:\n",
        "   print(\"Fibonacci sequence upto\",nterms,\":\")\n",
        "   print(n1)\n",
        "# generate fibonacci sequence\n",
        "else:\n",
        "   print(\"Fibonacci sequence:\")\n",
        "   while count < nterms:\n",
        "       print(n1)\n",
        "       nth = n1 + n2\n",
        "       # update values\n",
        "       n1 = n2\n",
        "       n2 = nth\n",
        "       count += 1\n",
        "       "
      ],
      "metadata": {
        "id": "t_p0eYoD-dLH",
        "colab": {
          "base_uri": "https://localhost:8080/"
        },
        "outputId": "8ab1e2bc-1e01-4913-a92a-9376ab5fc369"
      },
      "execution_count": 10,
      "outputs": [
        {
          "output_type": "stream",
          "name": "stdout",
          "text": [
            "How many terms? 7\n",
            "Fibonacci sequence:\n",
            "0\n",
            "1\n",
            "1\n",
            "2\n",
            "3\n",
            "5\n",
            "8\n"
          ]
        }
      ]
    },
    {
      "cell_type": "markdown",
      "source": [
        "4.\tWrite a Python Program to Check Armstrong Number?"
      ],
      "metadata": {
        "id": "WuGKNuWT-dZl"
      }
    },
    {
      "cell_type": "code",
      "source": [
        "num = int(input(\"Enter the number: \"))\n",
        "\n",
        "# Changed num variable to string, \n",
        "# and calculated the length (number of digits)\n",
        "order = len(str(num))\n",
        "\n",
        "# initialize sum\n",
        "sum = 0\n",
        "\n",
        "# find the sum of the cube of each digit\n",
        "temp = num\n",
        "while temp > 0:\n",
        "   digit = temp % 10\n",
        "   sum += digit ** order\n",
        "   temp //= 10\n",
        "\n",
        "# display the result\n",
        "if num == sum:\n",
        "   print(num,\"is an Armstrong number\")\n",
        "else:\n",
        "   print(num,\"is not an Armstrong number\")\n"
      ],
      "metadata": {
        "id": "Gsrw59xu-d4P",
        "colab": {
          "base_uri": "https://localhost:8080/"
        },
        "outputId": "d851443e-264b-4968-a38a-04f03db02ec7"
      },
      "execution_count": 12,
      "outputs": [
        {
          "output_type": "stream",
          "name": "stdout",
          "text": [
            "Enter the number: 153\n",
            "153 is an Armstrong number\n"
          ]
        }
      ]
    },
    {
      "cell_type": "markdown",
      "source": [
        "5.\tWrite a Python Program to Find Armstrong Number in an Interval?"
      ],
      "metadata": {
        "id": "ha84TQbS-eIm"
      }
    },
    {
      "cell_type": "code",
      "source": [
        "# Program to check Armstrong numbers in a certain interval\n",
        "\n",
        "lower = int(input(\"Enter the lower bound of the interval: \"))\n",
        "upper = int(input(\"Enter the higher bound of the interval: \"))\n",
        "\n",
        "for num in range(lower, upper + 1):\n",
        "\n",
        "   # order of number\n",
        "   order = len(str(num))\n",
        "    \n",
        "   # initialize sum\n",
        "   sum = 0\n",
        "\n",
        "   temp = num\n",
        "   while temp > 0:\n",
        "       digit = temp % 10\n",
        "       sum += digit ** order\n",
        "       temp //= 10\n",
        "\n",
        "   if num == sum:\n",
        "       print(num)\n"
      ],
      "metadata": {
        "id": "XVkZUfhS-ewg",
        "colab": {
          "base_uri": "https://localhost:8080/"
        },
        "outputId": "214d9d26-c2f1-43fa-db40-47acbca9443a"
      },
      "execution_count": 13,
      "outputs": [
        {
          "output_type": "stream",
          "name": "stdout",
          "text": [
            "Enter the lower bound of the interval: 100\n",
            "Enter the higher bound of the interval: 1000\n",
            "153\n",
            "370\n",
            "371\n",
            "407\n"
          ]
        }
      ]
    },
    {
      "cell_type": "markdown",
      "source": [
        "6.\tWrite a Python Program to Find the Sum of Natural Numbers?"
      ],
      "metadata": {
        "id": "-ZosjE7G-nKg"
      }
    },
    {
      "cell_type": "code",
      "source": [
        "x = int(input(\"Enter number of natural number upto which you want sum : \"))\n",
        "\n",
        "y = (x*(x+1)) /2\n",
        "print(f\"Sum of first {x} natural number is {y}\")"
      ],
      "metadata": {
        "id": "4RuoGygP-maR",
        "colab": {
          "base_uri": "https://localhost:8080/"
        },
        "outputId": "1500845d-cc3d-4788-f302-18c0e28e2411"
      },
      "execution_count": 11,
      "outputs": [
        {
          "output_type": "stream",
          "name": "stdout",
          "text": [
            "Enter number of natural number upto which you want sum : 10\n",
            "Sum of first 10 natural number is 55.0\n"
          ]
        }
      ]
    }
  ]
}