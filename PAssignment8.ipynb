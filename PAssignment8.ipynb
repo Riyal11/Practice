{
  "nbformat": 4,
  "nbformat_minor": 0,
  "metadata": {
    "colab": {
      "provenance": []
    },
    "kernelspec": {
      "name": "python3",
      "display_name": "Python 3"
    },
    "language_info": {
      "name": "python"
    }
  },
  "cells": [
    {
      "cell_type": "markdown",
      "source": [
        "1.\tWrite a Python Program to Add Two Matrices?"
      ],
      "metadata": {
        "id": "2epab4tzVVfg"
      }
    },
    {
      "cell_type": "code",
      "execution_count": 4,
      "metadata": {
        "colab": {
          "base_uri": "https://localhost:8080/"
        },
        "id": "DEu3g0XgVQTg",
        "outputId": "61b7267b-36ed-42dd-dd38-a99e19f28b83"
      },
      "outputs": [
        {
          "output_type": "stream",
          "name": "stdout",
          "text": [
            "Result:\n",
            "[10, 10, 10]\n",
            "[10, 10, 10]\n",
            "[10, 10, 10]\n"
          ]
        }
      ],
      "source": [
        "def add_matrices(mat1,mat2):\n",
        "    # check if the matrices have the same shape\n",
        "    if len(mat1) != len(mat2) or len(mat1[0]) != len(mat2[0]):\n",
        "        return None\n",
        "    \n",
        "    # create an empty matrix for the result\n",
        "    result = [[0 for j in range(len(mat1[0]))] for i in range(len(mat1))]\n",
        "    \n",
        "    # iterate over the matrices and add their corresponding elements\n",
        "    for i in range(len(mat1)):\n",
        "        for j in range(len(mat1[0])):\n",
        "            result[i][j] = mat1[i][j] + mat2[i][j]\n",
        "    \n",
        "    return result\n",
        "\n",
        "#matrices\n",
        "\n",
        "mat1 = [[1, 2, 3],\n",
        "        [4, 5, 6],\n",
        "        [7, 8, 9]]\n",
        "\n",
        "mat2 = [[9, 8, 7],\n",
        "        [6, 5, 4],\n",
        "        [3, 2, 1]]\n",
        "\n",
        "# add the matrices and print the result\n",
        "result = add_matrices(mat1, mat2)\n",
        "if result is not None:\n",
        "    print(\"Result:\")\n",
        "    for row in result:\n",
        "        print(row)\n",
        "else:\n",
        "    print(\"Matrices cannot be added\")\n"
      ]
    },
    {
      "cell_type": "markdown",
      "source": [
        "2.\tWrite a Python Program to Multiply Two Matrices?"
      ],
      "metadata": {
        "id": "t2KPqrNEVW50"
      }
    },
    {
      "cell_type": "code",
      "source": [
        "def multiply_matrices(mat1, mat2):\n",
        "    # check if the matrices can be multiplied\n",
        "    if len(mat1[0]) != len(mat2):\n",
        "        return None\n",
        "    \n",
        "    # create an empty matrix for the result\n",
        "    result = [[0 for j in range(len(mat2[0]))] for i in range(len(mat1))]\n",
        "    \n",
        "    # iterate over the matrices and multiply their corresponding elements\n",
        "    for i in range(len(mat1)):\n",
        "        for j in range(len(mat2[0])):\n",
        "            for k in range(len(mat2)):\n",
        "                result[i][j] += mat1[i][k] * mat2[k][j]\n",
        "    \n",
        "    return result\n",
        "\n",
        "# example matrices\n",
        "mat1 = [[1, 2, 3],\n",
        "        [4, 5, 6]]\n",
        "\n",
        "mat2 = [[7, 8],\n",
        "        [9, 10],\n",
        "        [11, 12]]\n",
        "\n",
        "# multiply the matrices and print the result\n",
        "result = multiply_matrices(mat1, mat2)\n",
        "if result is not None:\n",
        "    print(\"Result:\")\n",
        "    for row in result:\n",
        "        print(row)\n",
        "else:\n",
        "    print(\"Matrices cannot be multiplied\")\n"
      ],
      "metadata": {
        "colab": {
          "base_uri": "https://localhost:8080/"
        },
        "id": "PTNvnTvpVaEj",
        "outputId": "9c2d7e5a-9b14-470a-a7a6-9872d3ce2a34"
      },
      "execution_count": 5,
      "outputs": [
        {
          "output_type": "stream",
          "name": "stdout",
          "text": [
            "Result:\n",
            "[58, 64]\n",
            "[139, 154]\n"
          ]
        }
      ]
    },
    {
      "cell_type": "markdown",
      "source": [
        "3.\tWrite a Python Program to Transpose a Matrix?"
      ],
      "metadata": {
        "id": "xFh8LxJHVahv"
      }
    },
    {
      "cell_type": "code",
      "source": [
        "def transpose_matrix(matrix):\n",
        "    # create an empty matrix with swapped dimensions\n",
        "    result = [[0 for j in range(len(matrix))] for i in range(len(matrix[0]))]\n",
        "    \n",
        "    # iterate over the matrix and copy its elements to the new matrix\n",
        "    for i in range(len(matrix)):\n",
        "        for j in range(len(matrix[0])):\n",
        "            result[j][i] = matrix[i][j]\n",
        "    \n",
        "    return result\n",
        "\n",
        "# example matrix\n",
        "matrix = [[1, 2, 3],\n",
        "          [4, 5, 6]]\n",
        "\n",
        "# transpose the matrix and print the result\n",
        "result = transpose_matrix(matrix)\n",
        "print(\"Original matrix:\")\n",
        "for row in matrix:\n",
        "    print(row)\n",
        "print(\"Transposed matrix:\")\n",
        "for row in result:\n",
        "    print(row)\n"
      ],
      "metadata": {
        "colab": {
          "base_uri": "https://localhost:8080/"
        },
        "id": "2G1byUM2VfLz",
        "outputId": "998b7045-8b70-4ea2-93a3-29d5db3f1a11"
      },
      "execution_count": 6,
      "outputs": [
        {
          "output_type": "stream",
          "name": "stdout",
          "text": [
            "Original matrix:\n",
            "[1, 2, 3]\n",
            "[4, 5, 6]\n",
            "Transposed matrix:\n",
            "[1, 4]\n",
            "[2, 5]\n",
            "[3, 6]\n"
          ]
        }
      ]
    },
    {
      "cell_type": "markdown",
      "source": [
        "4.\tWrite a Python Program to Sort Words in Alphabetic Order?"
      ],
      "metadata": {
        "id": "PbUSjFSgVfhO"
      }
    },
    {
      "cell_type": "code",
      "source": [
        "def sort_words_alphabetically(sentence):\n",
        "    # split the sentence into words\n",
        "    words = sentence.split()\n",
        "    \n",
        "    # sort the words in alphabetical order\n",
        "    sorted_words = sorted(words)\n",
        "    \n",
        "    # join the sorted words into a sentence\n",
        "    sorted_sentence = \" \".join(sorted_words)\n",
        "    \n",
        "    return sorted_sentence\n",
        "\n",
        "# example sentence\n",
        "sentence = \"hello world how are you doing\"\n",
        "\n",
        "# sort the words in the sentence and print the result\n",
        "sorted_sentence = sort_words_alphabetically(sentence)\n",
        "print(\"Original sentence:\", sentence)\n",
        "print(\"Sorted sentence:\", sorted_sentence)\n"
      ],
      "metadata": {
        "colab": {
          "base_uri": "https://localhost:8080/"
        },
        "id": "-J2AfJqEVj88",
        "outputId": "d7ed935e-bc0d-4ffa-bc68-3896e8312c9e"
      },
      "execution_count": 7,
      "outputs": [
        {
          "output_type": "stream",
          "name": "stdout",
          "text": [
            "Original sentence: hello world how are you doing\n",
            "Sorted sentence: are doing hello how world you\n"
          ]
        }
      ]
    },
    {
      "cell_type": "markdown",
      "source": [
        "5.\tWrite a Python Program to Remove Punctuation From a String?"
      ],
      "metadata": {
        "id": "OWl7zsD7VkUe"
      }
    },
    {
      "cell_type": "code",
      "source": [
        "import string\n",
        "\n",
        "def remove_punctuation(string_with_punctuation):\n",
        "    # create a string of all punctuation characters\n",
        "    punctuations = string.punctuation\n",
        "    \n",
        "    # create a translation table to remove punctuation\n",
        "    translator = str.maketrans(\"\", \"\", punctuations)\n",
        "    \n",
        "    # remove the punctuation from the string\n",
        "    string_without_punctuation = string_with_punctuation.translate(translator)\n",
        "    \n",
        "    return string_without_punctuation\n",
        "\n",
        "# example string with punctuation\n",
        "string_with_punctuation = \"Hello, world! How are you?\"\n",
        "\n",
        "# remove punctuation from the string and print the result\n",
        "string_without_punctuation = remove_punctuation(string_with_punctuation)\n",
        "print(\"Original string:\", string_with_punctuation)\n",
        "print(\"String without punctuation:\", string_without_punctuation)\n"
      ],
      "metadata": {
        "colab": {
          "base_uri": "https://localhost:8080/"
        },
        "id": "ALjEYTaNVm1W",
        "outputId": "3a895d4c-2822-4664-8c89-647be69a0783"
      },
      "execution_count": 8,
      "outputs": [
        {
          "output_type": "stream",
          "name": "stdout",
          "text": [
            "Original string: Hello, world! How are you?\n",
            "String without punctuation: Hello world How are you\n"
          ]
        }
      ]
    },
    {
      "cell_type": "code",
      "source": [
        "punctuations = string.punctuation\n",
        "print(punctuations)"
      ],
      "metadata": {
        "colab": {
          "base_uri": "https://localhost:8080/"
        },
        "id": "R4SCgBbxbGB2",
        "outputId": "42f5b308-9885-4fef-b6a5-54636aee2d91"
      },
      "execution_count": 10,
      "outputs": [
        {
          "output_type": "stream",
          "name": "stdout",
          "text": [
            "!\"#$%&'()*+,-./:;<=>?@[\\]^_`{|}~\n"
          ]
        }
      ]
    },
    {
      "cell_type": "code",
      "source": [
        "translator = str.maketrans(\"\", \"\", punctuations)"
      ],
      "metadata": {
        "id": "Nw1wNEcIbN6a"
      },
      "execution_count": 13,
      "outputs": []
    },
    {
      "cell_type": "code",
      "source": [
        "string_without_punctuation = string_with_punctuation.translate(translator)\n",
        "print(string_without_punctuation)"
      ],
      "metadata": {
        "colab": {
          "base_uri": "https://localhost:8080/"
        },
        "id": "Pmii-rapbeYe",
        "outputId": "4865b27a-edf9-461f-a0a5-437248e78031"
      },
      "execution_count": 14,
      "outputs": [
        {
          "output_type": "stream",
          "name": "stdout",
          "text": [
            "Hello world How are you\n"
          ]
        }
      ]
    },
    {
      "cell_type": "code",
      "source": [],
      "metadata": {
        "id": "5JYloThVbiQF"
      },
      "execution_count": null,
      "outputs": []
    }
  ]
}