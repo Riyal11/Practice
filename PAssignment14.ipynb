{
  "nbformat": 4,
  "nbformat_minor": 0,
  "metadata": {
    "colab": {
      "provenance": []
    },
    "kernelspec": {
      "name": "python3",
      "display_name": "Python 3"
    },
    "language_info": {
      "name": "python"
    }
  },
  "cells": [
    {
      "cell_type": "markdown",
      "source": [
        "Question 1:\n",
        "\n",
        "Define a class with a generator which can iterate the numbers, which are divisible by 7, between a given range 0 and n.\n",
        "\n",
        "Question 2:\n",
        "Write a program to compute the frequency of the words from the input. The output should output after sorting the key alphanumerically. \n",
        "\n",
        "Suppose the following input is supplied to the program:\n",
        "\n",
        "New to Python or choosing between Python 2 and Python 3? Read Python 2 or Python 3.\n",
        "\n",
        "Then, the output should be:\n",
        "\n",
        "2:2\n",
        "\n",
        "3.:1\n",
        "\n",
        "3?:1\n",
        "\n",
        "New:1\n",
        "\n",
        "Python:5\n",
        "\n",
        "Read:1\n",
        "\n",
        "and:1\n",
        "\n",
        "between:1\n",
        "\n",
        "choosing:1\n",
        "\n",
        "or:2\n",
        "\n",
        "to:1\n",
        "\n",
        "Question 3:\n",
        "\n",
        "\n",
        "\n",
        "Define a class Person and its two child classes: Male and Female. All classes have a method \"getGender\" which can print \"Male\" for Male class and \"Female\" for Female class.\n",
        "\n",
        "Question 4:\n",
        "Please write a program to generate all sentences where subject is in [\"I\", \"You\"] and verb is in [\"Play\", \"Love\"] and the object is in [\"Hockey\",\"Football\"].\n",
        "\n",
        "\n",
        "Question 5:\n",
        "Please write a program to compress and decompress the string \"hello world!hello world!hello world!hello world!\".\n",
        "\n",
        "Question 6:\n",
        "Please write a binary search function which searches an item in a sorted list. The function should return the index of element to be searched in the list.\n"
      ],
      "metadata": {
        "id": "a9qpSUhUmqSw"
      }
    },
    {
      "cell_type": "code",
      "source": [
        "#1\n",
        "class DivisibleBySeven:\n",
        "    def __init__(self, n):\n",
        "        self.n = n\n",
        "    \n",
        "    def generator(self):\n",
        "        for i in range(self.n+1):\n",
        "            if i % 7 == 0:\n",
        "                yield i\n",
        "\n",
        "divisible_by_seven = DivisibleBySeven(50)\n",
        "for num in divisible_by_seven.generator():\n",
        "    print(num)\n"
      ],
      "metadata": {
        "id": "LcsUMihWmr7D",
        "colab": {
          "base_uri": "https://localhost:8080/"
        },
        "outputId": "7f1e60fe-d2f3-4875-9de2-5799b9460dfa"
      },
      "execution_count": null,
      "outputs": [
        {
          "output_type": "stream",
          "name": "stdout",
          "text": [
            "0\n",
            "7\n",
            "14\n",
            "21\n",
            "28\n",
            "35\n",
            "42\n",
            "49\n"
          ]
        }
      ]
    },
    {
      "cell_type": "code",
      "source": [
        "#2\n",
        "input_string = input(\"Enter the input string: \")\n",
        "\n",
        "# Split the input string into a list of words\n",
        "words_list = input_string.split()\n",
        "\n",
        "# Create a dictionary to store the frequency of each word\n",
        "word_freq = {}\n",
        "\n",
        "# Count the frequency of each word\n",
        "for word in words_list:\n",
        "    if word in word_freq:\n",
        "        word_freq[word] += 1\n",
        "    else:\n",
        "        word_freq[word] = 1\n",
        "\n",
        "# Sort the dictionary keys in alphabetical order\n",
        "sorted_word_freq = sorted(word_freq.items())\n",
        "\n",
        "# Print the word frequency count\n",
        "for key, value in sorted_word_freq:\n",
        "    print(key + \":\" + str(value))\n"
      ],
      "metadata": {
        "colab": {
          "base_uri": "https://localhost:8080/"
        },
        "id": "vLuFuRPbwiNg",
        "outputId": "28fb2be6-3109-41f3-8f0f-8705dac1889d"
      },
      "execution_count": null,
      "outputs": [
        {
          "output_type": "stream",
          "name": "stdout",
          "text": [
            "Enter the input string: New to Python or choosing between Python 2 and Python 3? Read Python 2 or Python 3.\n",
            "2:2\n",
            "3.:1\n",
            "3?:1\n",
            "New:1\n",
            "Python:5\n",
            "Read:1\n",
            "and:1\n",
            "between:1\n",
            "choosing:1\n",
            "or:2\n",
            "to:1\n"
          ]
        }
      ]
    },
    {
      "cell_type": "code",
      "source": [
        "#3\n",
        "class Person:\n",
        "    def __init__(self, name):\n",
        "        self.name = name\n",
        "    \n",
        "    def getGender(self):\n",
        "        pass\n",
        "\n",
        "class Male(Person):\n",
        "    def getGender(self):\n",
        "        return \"Male\"\n",
        "\n",
        "class Female(Person):\n",
        "    def getGender(self):\n",
        "        return \"Female\"\n",
        "\n",
        "person1 = Male(\"John\")\n",
        "person2 = Female(\"Jane\")\n",
        "print(person1.name, person1.getGender())\n",
        "print(person2.name, person2.getGender())\n"
      ],
      "metadata": {
        "colab": {
          "base_uri": "https://localhost:8080/"
        },
        "id": "sienfGyrw14Z",
        "outputId": "306f2480-b1bf-4051-fa60-1e98d20d82ff"
      },
      "execution_count": null,
      "outputs": [
        {
          "output_type": "stream",
          "name": "stdout",
          "text": [
            "John Male\n",
            "Jane Female\n"
          ]
        }
      ]
    },
    {
      "cell_type": "code",
      "source": [
        "#4\n",
        "subjects = [\"I\", \"You\"]\n",
        "verbs = [\"Play\", \"Love\"]\n",
        "objects = [\"Hockey\", \"Football\"]\n",
        "\n",
        "# Using nested loops to generate all possible sentences\n",
        "for subject in subjects:\n",
        "    for verb in verbs:\n",
        "        for obj in objects:\n",
        "            print(f\"{subject} {verb} {obj}.\")\n"
      ],
      "metadata": {
        "colab": {
          "base_uri": "https://localhost:8080/"
        },
        "id": "K1f2sv_VyYJj",
        "outputId": "b9ddc25e-6605-4e17-a928-0f34571dd4b7"
      },
      "execution_count": null,
      "outputs": [
        {
          "output_type": "stream",
          "name": "stdout",
          "text": [
            "I Play Hockey.\n",
            "I Play Football.\n",
            "I Love Hockey.\n",
            "I Love Football.\n",
            "You Play Hockey.\n",
            "You Play Football.\n",
            "You Love Hockey.\n",
            "You Love Football.\n"
          ]
        }
      ]
    },
    {
      "cell_type": "code",
      "source": [
        "#5\n",
        "import zlib\n",
        "\n",
        "original_string = \"hello world!hello world!hello world!hello world!\"\n",
        "\n",
        "# Compress the string\n",
        "compressed_string = zlib.compress(original_string.encode())\n",
        "\n",
        "# Decompress the string\n",
        "decompressed_string = zlib.decompress(compressed_string).decode()\n",
        "\n",
        "print(\"Original string:\", original_string)\n",
        "print(\"Compressed string:\", compressed_string)\n",
        "print(\"Decompressed string:\", decompressed_string)\n"
      ],
      "metadata": {
        "colab": {
          "base_uri": "https://localhost:8080/"
        },
        "id": "dHoSlSVSycaP",
        "outputId": "114707f6-33d4-4c9e-bd6b-cdab8fda24a2"
      },
      "execution_count": null,
      "outputs": [
        {
          "output_type": "stream",
          "name": "stdout",
          "text": [
            "Original string: hello world!hello world!hello world!hello world!\n",
            "Compressed string: b'x\\x9c\\xcbH\\xcd\\xc9\\xc9W(\\xcf/\\xcaIQ\\xcc \\x82\\r\\x00\\xbd[\\x11\\xf5'\n",
            "Decompressed string: hello world!hello world!hello world!hello world!\n"
          ]
        }
      ]
    },
    {
      "cell_type": "code",
      "source": [
        "#6\n",
        "def binary_search(arr, item):\n",
        "    \"\"\"\n",
        "    Search for the index of an item in a sorted list using binary search algorithm.\n",
        "\n",
        "    Args:\n",
        "        arr (list): The sorted list to search in.\n",
        "        item: The item to search for.\n",
        "\n",
        "    Returns:\n",
        "        int: The index of the item in the list, or -1 if not found.\n",
        "    \"\"\"\n",
        "    low = 0\n",
        "    high = len(arr) - 1\n",
        "\n",
        "    while low <= high:\n",
        "        mid = (low + high) // 2\n",
        "        if arr[mid] == item:\n",
        "            return mid\n",
        "        elif arr[mid] < item:\n",
        "            low = mid + 1\n",
        "        else:\n",
        "            high = mid - 1\n",
        "\n",
        "    return -1\n",
        "\n",
        "arr = [2, 5, 7, 10, 15, 20]\n",
        "item = 7\n",
        "\n",
        "index = binary_search(arr, item)\n",
        "print(f\"The index of {item} in the list is {index}.\")  # Output: The index of 7 in the list is 2.\n"
      ],
      "metadata": {
        "colab": {
          "base_uri": "https://localhost:8080/"
        },
        "id": "aX5R7QBYy6Tw",
        "outputId": "8501ea7f-e046-4d7a-e762-69f1d98e56e0"
      },
      "execution_count": null,
      "outputs": [
        {
          "output_type": "stream",
          "name": "stdout",
          "text": [
            "The index of 7 in the list is 2.\n"
          ]
        }
      ]
    },
    {
      "cell_type": "code",
      "source": [],
      "metadata": {
        "id": "ISXR9mb_1T3g"
      },
      "execution_count": null,
      "outputs": []
    }
  ]
}